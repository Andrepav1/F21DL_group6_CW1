{
 "cells": [
  {
   "cell_type": "code",
   "execution_count": 1,
   "metadata": {
    "id": "yY1yfQvgMay0"
   },
   "outputs": [],
   "source": [
    "import sys\n",
    "assert sys.version_info >= (3, 5)\n",
    "# Python ≥3.5 is required\n",
    "\n",
    "# Scikit-Learn ≥0.20 is required\n",
    "import sklearn\n",
    "assert sklearn.__version__ >= \"0.20\"\n",
    "\n",
    "# Common imports\n",
    "import numpy as np\n",
    "import os\n",
    "import tarfile\n",
    "import urllib\n",
    "import pandas as pd\n",
    "import random\n",
    "\n",
    "# import sklearn utils\n",
    "from sklearn import metrics\n",
    "from sklearn.cluster import KMeans\n",
    "from sklearn.datasets import load_digits\n",
    "from sklearn.decomposition import PCA\n",
    "from sklearn.preprocessing import scale\n",
    "from sklearn.feature_extraction.image import extract_patches_2d\n",
    "\n",
    "# To plot pretty figures\n",
    "%matplotlib inline\n",
    "import matplotlib as mpl\n",
    "import matplotlib.pyplot as plt\n",
    "\n",
    "from sklearn import metrics\n",
    "from sklearn.cluster import KMeans\n",
    "from sklearn.datasets import load_digits\n",
    "from sklearn.decomposition import PCA\n",
    "from sklearn.preprocessing import scale\n",
    "from sklearn.feature_extraction.image import extract_patches_2d"
   ]
  },
  {
   "cell_type": "code",
   "execution_count": 2,
   "metadata": {},
   "outputs": [],
   "source": [
    "# ==============================================\n",
    "# FILES MANAGEMENT\n",
    "# ==============================================\n",
    "\n",
    "DOWNLOAD_ROOT = \"http://www.macs.hw.ac.uk/%7Eek19/data/\"\n",
    "CURRENT_PATH = os.path.join(os.getcwd(), \"datasets\")\n",
    "X_FILE = \"x_train_gr_smpl.csv\"\n",
    "Y_FILE =\"y_train_smpl.csv\"\n",
    "\n",
    "def fetch_file(file, download_root=DOWNLOAD_ROOT, current_path=CURRENT_PATH):\n",
    "    if os.path.isfile(os.path.join(current_path, file)):\n",
    "        return\n",
    "    \n",
    "    os.makedirs(current_path, exist_ok=True)\n",
    "    urllib.request.urlretrieve(download_root + file, os.path.join(current_path, file))"
   ]
  },
  {
   "cell_type": "code",
   "execution_count": 3,
   "metadata": {},
   "outputs": [],
   "source": [
    "# fetching all files needed in the task\n",
    "fetch_file(X_FILE)\n",
    "fetch_file(Y_FILE)\n",
    "\n",
    "for i in range(10):\n",
    "    fetch_file(\"y_train_smpl_\" + str(i) + \".csv\")"
   ]
  },
  {
   "cell_type": "code",
   "execution_count": 4,
   "metadata": {},
   "outputs": [],
   "source": [
    "# Loading functions \n",
    "def load_features_data(current_path=CURRENT_PATH):\n",
    "    return pd.read_csv(os.path.join(current_path, X_FILE)).rename(columns=lambda s: \"pixel_\"+s, index=lambda s: \"sign_\"+str(s))\n",
    "\n",
    "def load_labels_data(labels_n=None):\n",
    "    if labels_n is None:\n",
    "        return pd.read_csv(os.path.join(CURRENT_PATH, Y_FILE)).rename(columns=lambda s:\"class\", index=lambda s: \"sign_\"+str(s))\n",
    "    else:\n",
    "        return pd.read_csv(os.path.join(CURRENT_PATH, \"y_train_smpl_\" + str(labels_n) + \".csv\")).rename(columns=lambda s:\"class_\"+str(labels_n), index=lambda s: \"sign_\"+str(s))"
   ]
  },
  {
   "cell_type": "code",
   "execution_count": 5,
   "metadata": {},
   "outputs": [],
   "source": [
    "# getting file with all labels\n",
    "all_labels = load_labels_data()\n",
    "\n",
    "# getting file with all features\n",
    "features = load_features_data()"
   ]
  },
  {
   "cell_type": "code",
   "execution_count": 6,
   "metadata": {
    "id": "MmiEMt5OMXtd"
   },
   "outputs": [],
   "source": [
    "X_original = features.to_numpy()\n",
    "y_original = all_labels.to_numpy().reshape(-1)"
   ]
  },
  {
   "cell_type": "code",
   "execution_count": 7,
   "metadata": {},
   "outputs": [
    {
     "data": {
      "text/plain": [
       "((9690,), (9690, 2304))"
      ]
     },
     "execution_count": 7,
     "metadata": {},
     "output_type": "execute_result"
    }
   ],
   "source": [
    "y_original.shape,X_original.shape\n"
   ]
  },
  {
   "cell_type": "code",
   "execution_count": 8,
   "metadata": {
    "id": "j1-AeTig6YUW"
   },
   "outputs": [],
   "source": [
    "X = X_original.copy()\n",
    "y = y_original.copy()"
   ]
  },
  {
   "cell_type": "code",
   "execution_count": 9,
   "metadata": {
    "id": "rn8_A5kg69aC"
   },
   "outputs": [],
   "source": [
    "# Selecting only the middle 24 x 24 part of the image 12:36\n",
    "X = X.reshape(-1, 48, 48)[:, 12:36, 12:36].reshape(-1, 24 * 24)"
   ]
  },
  {
   "cell_type": "code",
   "execution_count": 10,
   "metadata": {
    "colab": {
     "base_uri": "https://localhost:8080/",
     "height": 282
    },
    "id": "bkYRcaQt7KS9",
    "outputId": "54fa1576-e083-4cbd-aa58-ad259be8d556"
   },
   "outputs": [
    {
     "data": {
      "text/plain": [
       "<matplotlib.image.AxesImage at 0x1bea9ad0bb0>"
      ]
     },
     "execution_count": 10,
     "metadata": {},
     "output_type": "execute_result"
    },
    {
     "data": {
      "image/png": "[encoded data removed]",
      "text/plain": [
       "<Figure size 432x288 with 1 Axes>"
      ]
     },
     "metadata": {
      "needs_background": "light"
     },
     "output_type": "display_data"
    }
   ],
   "source": [
    "plt.imshow(random.choice(X).reshape(24, 24))"
   ]
  },
  {
   "cell_type": "code",
   "execution_count": 11,
   "metadata": {
    "id": "AAvP6nBj0iAB"
   },
   "outputs": [],
   "source": [
    "data = scale(X)\n",
    "labels = y\n",
    "sample_size=300\n",
    "n_clusters = [5, 10, 15, 20, 30, 40, 50, 75, 100]\n",
    "\n",
    "estimators = []\n",
    "silhouette_scores = []\n",
    "\n",
    "for i in n_clusters:\n",
    "  estimator = KMeans(init='k-means++', n_clusters=i)\n",
    "  estimator.fit(data)\n",
    "  estimators.append(estimator)\n",
    "  silhouette_scores.append(metrics.silhouette_score(data, estimator.labels_,\n",
    "                                        metric='euclidean',\n",
    "                                        sample_size=sample_size))"
   ]
  },
  {
   "cell_type": "code",
   "execution_count": 12,
   "metadata": {
    "colab": {
     "base_uri": "https://localhost:8080/",
     "height": 282
    },
    "id": "0g6Nnvya1kTX",
    "outputId": "d23bc833-988b-4f01-8bfd-f983b80d8986"
   },
   "outputs": [
    {
     "data": {
      "text/plain": [
       "<matplotlib.lines.Line2D at 0x1bea89bd1f0>"
      ]
     },
     "execution_count": 12,
     "metadata": {},
     "output_type": "execute_result"
    },
    {
     "data": {
      "image/png": "[encoded data removed]",
      "text/plain": [
       "<Figure size 432x288 with 1 Axes>"
      ]
     },
     "metadata": {
      "needs_background": "light"
     },
     "output_type": "display_data"
    }
   ],
   "source": [
    "plt.plot(n_clusters, silhouette_scores)\n",
    "plt.axvline(x=10, color='red')"
   ]
  },
  {
   "cell_type": "code",
   "execution_count": 13,
   "metadata": {
    "id": "n04ydixzGKWr"
   },
   "outputs": [],
   "source": [
    "# Reference: https://scikit-learn.org/stable/auto_examples/cluster/plot_kmeans_digits.html#sphx-glr-auto-examples-cluster-plot-kmeans-digits-py\n",
    "\n",
    "def KMeans_Analysis(X, y):\n",
    "  data = scale(X)\n",
    "\n",
    "  n_samples, n_features = data.shape\n",
    "  n_digits = len(np.unique(y))\n",
    "  labels = y\n",
    "\n",
    "  sample_size = 300\n",
    "  estimators = {}\n",
    "\n",
    "  print(82 * '_')\n",
    "  print('init\\t\\ttime\\thomo\\tcompl\\tv-meas\\tsilhouette')\n",
    "\n",
    "  def bench_k_means(estimator, name, data):\n",
    "      t0 = time()\n",
    "      estimator.fit(data)\n",
    "      print('%-9s\\t%.2fs\\t%.3f\\t%.3f\\t%.3f\\t%.3f'\n",
    "            % (name, (time() - t0), \n",
    "              metrics.homogeneity_score(labels, estimator.labels_),\n",
    "              metrics.completeness_score(labels, estimator.labels_),\n",
    "              metrics.v_measure_score(labels, estimator.labels_),\n",
    "              metrics.silhouette_score(data, estimator.labels_,\n",
    "                                        metric='euclidean',\n",
    "                                        sample_size=sample_size)))\n",
    "      return estimator\n",
    "\n",
    "  estimators['k-means++'] = bench_k_means(KMeans(init='k-means++', n_clusters=n_digits, n_init=10),\n",
    "                name=\"k-means++\", data=data)\n",
    "\n",
    "  estimators['random'] = bench_k_means(KMeans(init='random', n_clusters=n_digits, n_init=10),\n",
    "                name=\"random\", data=data)\n",
    "  print(82 * '_')\n",
    "\n",
    "  return estimators"
   ]
  },
  {
   "cell_type": "code",
   "execution_count": 14,
   "metadata": {
    "id": "13VTLtwlEvQQ"
   },
   "outputs": [],
   "source": [
    "X = X_original.copy()\n",
    "y = y_original.copy()"
   ]
  },
  {
   "cell_type": "code",
   "execution_count": 15,
   "metadata": {
    "colab": {
     "base_uri": "https://localhost:8080/"
    },
    "id": "Arr4rMmXEvQV",
    "outputId": "f59ee471-fc6a-4fcc-f7cd-5423a35685f5"
   },
   "outputs": [
    {
     "name": "stdout",
     "output_type": "stream",
     "text": [
      "__________________________________________________________________________________\n",
      "init\t\ttime\thomo\tcompl\tv-meas\tsilhouette\n"
     ]
    },
    {
     "ename": "NameError",
     "evalue": "name 'time' is not defined",
     "output_type": "error",
     "traceback": [
      "\u001b[1;31m---------------------------------------------------------------------------\u001b[0m",
      "\u001b[1;31mNameError\u001b[0m                                 Traceback (most recent call last)",
      "\u001b[1;32m<ipython-input-15-5bc0acb07466>\u001b[0m in \u001b[0;36m<module>\u001b[1;34m\u001b[0m\n\u001b[1;32m----> 1\u001b[1;33m \u001b[0mestimator_1\u001b[0m \u001b[1;33m=\u001b[0m \u001b[0mKMeans_Analysis\u001b[0m\u001b[1;33m(\u001b[0m\u001b[0mX\u001b[0m\u001b[1;33m,\u001b[0m \u001b[0my\u001b[0m\u001b[1;33m)\u001b[0m\u001b[1;33m\u001b[0m\u001b[1;33m\u001b[0m\u001b[0m\n\u001b[0m",
      "\u001b[1;32m<ipython-input-13-0712172a399b>\u001b[0m in \u001b[0;36mKMeans_Analysis\u001b[1;34m(X, y)\u001b[0m\n\u001b[0;32m     27\u001b[0m       \u001b[1;32mreturn\u001b[0m \u001b[0mestimator\u001b[0m\u001b[1;33m\u001b[0m\u001b[1;33m\u001b[0m\u001b[0m\n\u001b[0;32m     28\u001b[0m \u001b[1;33m\u001b[0m\u001b[0m\n\u001b[1;32m---> 29\u001b[1;33m   estimators['k-means++'] = bench_k_means(KMeans(init='k-means++', n_clusters=n_digits, n_init=10),\n\u001b[0m\u001b[0;32m     30\u001b[0m                 name=\"k-means++\", data=data)\n\u001b[0;32m     31\u001b[0m \u001b[1;33m\u001b[0m\u001b[0m\n",
      "\u001b[1;32m<ipython-input-13-0712172a399b>\u001b[0m in \u001b[0;36mbench_k_means\u001b[1;34m(estimator, name, data)\u001b[0m\n\u001b[0;32m     15\u001b[0m \u001b[1;33m\u001b[0m\u001b[0m\n\u001b[0;32m     16\u001b[0m   \u001b[1;32mdef\u001b[0m \u001b[0mbench_k_means\u001b[0m\u001b[1;33m(\u001b[0m\u001b[0mestimator\u001b[0m\u001b[1;33m,\u001b[0m \u001b[0mname\u001b[0m\u001b[1;33m,\u001b[0m \u001b[0mdata\u001b[0m\u001b[1;33m)\u001b[0m\u001b[1;33m:\u001b[0m\u001b[1;33m\u001b[0m\u001b[1;33m\u001b[0m\u001b[0m\n\u001b[1;32m---> 17\u001b[1;33m       \u001b[0mt0\u001b[0m \u001b[1;33m=\u001b[0m \u001b[0mtime\u001b[0m\u001b[1;33m(\u001b[0m\u001b[1;33m)\u001b[0m\u001b[1;33m\u001b[0m\u001b[1;33m\u001b[0m\u001b[0m\n\u001b[0m\u001b[0;32m     18\u001b[0m       \u001b[0mestimator\u001b[0m\u001b[1;33m.\u001b[0m\u001b[0mfit\u001b[0m\u001b[1;33m(\u001b[0m\u001b[0mdata\u001b[0m\u001b[1;33m)\u001b[0m\u001b[1;33m\u001b[0m\u001b[1;33m\u001b[0m\u001b[0m\n\u001b[0;32m     19\u001b[0m       print('%-9s\\t%.2fs\\t%.3f\\t%.3f\\t%.3f\\t%.3f'\n",
      "\u001b[1;31mNameError\u001b[0m: name 'time' is not defined"
     ]
    }
   ],
   "source": [
    "estimator_1 = KMeans_Analysis(X, y)"
   ]
  },
  {
   "cell_type": "code",
   "execution_count": null,
   "metadata": {
    "colab": {
     "base_uri": "https://localhost:8080/",
     "height": 284
    },
    "id": "TD72vxfZI3JW",
    "outputId": "44c7949e-d7f6-49bd-c622-62cd97b77de9"
   },
   "outputs": [],
   "source": [
    "plt.imshow(random.choice(X).reshape(48, 48))"
   ]
  },
  {
   "cell_type": "code",
   "execution_count": null,
   "metadata": {
    "id": "7OIXZhroDjL6"
   },
   "outputs": [],
   "source": [
    "X = X_original.copy()\n",
    "y = y_original.copy()"
   ]
  },
  {
   "cell_type": "code",
   "execution_count": null,
   "metadata": {
    "id": "L--vc0TZOCuQ"
   },
   "outputs": [],
   "source": [
    "# Selecting only the middle 24 x 24 part of the image 12:36\n",
    "X = X.reshape(-1, 48, 48)[:, 12:36, 12:36].reshape(-1, 24 * 24)"
   ]
  },
  {
   "cell_type": "code",
   "execution_count": null,
   "metadata": {
    "colab": {
     "base_uri": "https://localhost:8080/"
    },
    "id": "29AkXWCUUYqN",
    "outputId": "fdc01e1b-8ac0-4b1f-bf06-063ac50d416b"
   },
   "outputs": [],
   "source": [
    "estimator_2 = KMeans_Analysis(X, y)"
   ]
  },
  {
   "cell_type": "code",
   "execution_count": null,
   "metadata": {
    "colab": {
     "base_uri": "https://localhost:8080/",
     "height": 282
    },
    "id": "_HtMhQ69JGTk",
    "outputId": "12ff218b-11fd-4dc8-de43-f9943a9462e2"
   },
   "outputs": [],
   "source": [
    "plt.imshow(random.choice(X).reshape(24, 24))"
   ]
  },
  {
   "cell_type": "code",
   "execution_count": null,
   "metadata": {
    "id": "wQXUqVV-EDsl"
   },
   "outputs": [],
   "source": [
    "X = X_original.copy()\n",
    "y = y_original.copy()"
   ]
  },
  {
   "cell_type": "code",
   "execution_count": null,
   "metadata": {
    "id": "UIZlk-G9vLGJ"
   },
   "outputs": [],
   "source": [
    "# Selecting only the middle 16 x 16 part of the image\n",
    "X = X.reshape(-1, 48, 48)[:, 16:32, 16:32].reshape(-1, 16 * 16)"
   ]
  },
  {
   "cell_type": "code",
   "execution_count": null,
   "metadata": {
    "colab": {
     "base_uri": "https://localhost:8080/"
    },
    "id": "XS8VJT7MvLGP",
    "outputId": "d9a1043d-95a1-4136-91fa-faf146ec54d6"
   },
   "outputs": [],
   "source": [
    "estimator_3 = KMeans_Analysis(X, y)"
   ]
  },
  {
   "cell_type": "code",
   "execution_count": null,
   "metadata": {
    "colab": {
     "base_uri": "https://localhost:8080/",
     "height": 282
    },
    "id": "T0j7KJG1cCwT",
    "outputId": "cfa2411b-3469-474c-f02e-25ff0bc6591b"
   },
   "outputs": [],
   "source": [
    "plt.imshow(random.choice(X).reshape(16, 16))"
   ]
  },
  {
   "cell_type": "code",
   "execution_count": null,
   "metadata": {
    "id": "NCZ3eoNEEIJH"
   },
   "outputs": [],
   "source": [
    "X = X_original.copy()\n",
    "y = y_original.copy()"
   ]
  },
  {
   "cell_type": "code",
   "execution_count": null,
   "metadata": {
    "id": "1Pb4fpyVyTL2"
   },
   "outputs": [],
   "source": [
    "# Selecting only the middle 12 x 12 part of the image\n",
    "X = X.reshape(-1, 48, 48)[:, 18:30, 18:30].reshape(-1, 12 * 12)"
   ]
  },
  {
   "cell_type": "code",
   "execution_count": null,
   "metadata": {
    "colab": {
     "base_uri": "https://localhost:8080/"
    },
    "id": "1AJF_U3_yTL-",
    "outputId": "b762ae35-34a0-451e-c3f5-7d78991ad35c"
   },
   "outputs": [],
   "source": [
    "estimator_4 = KMeans_Analysis(X, y)"
   ]
  },
  {
   "cell_type": "code",
   "execution_count": null,
   "metadata": {
    "colab": {
     "base_uri": "https://localhost:8080/",
     "height": 282
    },
    "id": "BanJMRke_K_Z",
    "outputId": "bdf8a40a-fc25-4563-e3cb-50c57fda3a71"
   },
   "outputs": [],
   "source": [
    "plt.imshow(random.choice(X).reshape(12, 12))"
   ]
  }
 ],
 "metadata": {
  "colab": {
   "collapsed_sections": [],
   "name": "Question9.ipynb",
   "provenance": []
  },
  "kernelspec": {
   "display_name": "Python 3",
   "language": "python",
   "name": "python3"
  },
  "language_info": {
   "codemirror_mode": {
    "name": "ipython",
    "version": 3
   },
   "file_extension": ".py",
   "mimetype": "text/x-python",
   "name": "python",
   "nbconvert_exporter": "python",
   "pygments_lexer": "ipython3",
   "version": "3.8.5"
  }
 },
 "nbformat": 4,
 "nbformat_minor": 1
}
