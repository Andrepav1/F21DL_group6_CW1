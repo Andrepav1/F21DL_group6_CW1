{
 "cells": [
  {
   "cell_type": "code",
   "execution_count": 1,
   "metadata": {},
   "outputs": [],
   "source": [
    "import sys\n",
    "assert sys.version_info >= (3, 5)\n",
    "# Python ≥3.5 is required\n",
    "\n",
    "# Scikit-Learn ≥0.20 is required\n",
    "import sklearn\n",
    "assert sklearn.__version__ >= \"0.20\"\n",
    "\n",
    "# Common imports\n",
    "import numpy as np\n",
    "import os\n",
    "import tarfile\n",
    "import urllib\n",
    "import pandas as pd\n",
    "\n",
    "# To plot pretty figures\n",
    "%matplotlib inline\n",
    "import matplotlib as mpl\n",
    "import matplotlib.pyplot as plt"
   ]
  },
  {
   "cell_type": "code",
   "execution_count": 2,
   "metadata": {},
   "outputs": [],
   "source": [
    "DOWNLOAD_ROOT = \"http://www.macs.hw.ac.uk/%7Eek19/data/\"\n",
    "SIGNS_PATH = os.path.join(\"datasets\", \"classes\")\n",
    "\n",
    "SIGNS_URL_0 = DOWNLOAD_ROOT + \"y_train_smpl_0.csv\"\n",
    "SIGNS_URL_1 = DOWNLOAD_ROOT + \"y_train_smpl_1.csv\"\n",
    "SIGNS_URL_2 = DOWNLOAD_ROOT + \"y_train_smpl_2.csv\"\n",
    "SIGNS_URL_3 = DOWNLOAD_ROOT + \"y_train_smpl_3.csv\"\n",
    "SIGNS_URL_4 = DOWNLOAD_ROOT + \"y_train_smpl_4.csv\"\n",
    "SIGNS_URL_5 = DOWNLOAD_ROOT + \"y_train_smpl_5.csv\"\n",
    "SIGNS_URL_6 = DOWNLOAD_ROOT + \"y_train_smpl_6.csv\"\n",
    "SIGNS_URL_7 = DOWNLOAD_ROOT + \"y_train_smpl_7.csv\"\n",
    "SIGNS_URL_8 = DOWNLOAD_ROOT + \"y_train_smpl_8.csv\"\n",
    "SIGNS_URL_9 = DOWNLOAD_ROOT + \"y_train_smpl_9.csv\"\n",
    "\n",
    "def fetch_signs_data(signs_url, class_number, signs_path=SIGNS_PATH):\n",
    "    os.makedirs(signs_path, exist_ok=True)\n",
    "    csv_path = os.path.join(signs_path, \"y_train_smpl_\"+ str(class_number) +\".csv\")\n",
    "    urllib.request.urlretrieve(globals()[signs_url], csv_path)\n"
   ]
  },
  {
   "cell_type": "code",
   "execution_count": 3,
   "metadata": {},
   "outputs": [
    {
     "name": "stdout",
     "output_type": "stream",
     "text": [
      "SIGNS_URL_0\n",
      "SIGNS_URL_1\n",
      "SIGNS_URL_2\n",
      "SIGNS_URL_3\n",
      "SIGNS_URL_4\n",
      "SIGNS_URL_5\n",
      "SIGNS_URL_6\n",
      "SIGNS_URL_7\n",
      "SIGNS_URL_8\n",
      "SIGNS_URL_9\n"
     ]
    }
   ],
   "source": [
    "# fetch_signs_data(SIGNS_URL_0)\n",
    "\n",
    "for i in range(10):\n",
    "    string = \"SIGNS_URL_\" + str(i)\n",
    "    print(string)\n",
    "    fetch_signs_data(string, i)\n"
   ]
  },
  {
   "cell_type": "code",
   "execution_count": null,
   "metadata": {},
   "outputs": [],
   "source": []
  },
  {
   "cell_type": "code",
   "execution_count": null,
   "metadata": {},
   "outputs": [],
   "source": []
  },
  {
   "cell_type": "code",
   "execution_count": null,
   "metadata": {},
   "outputs": [],
   "source": []
  },
  {
   "cell_type": "code",
   "execution_count": null,
   "metadata": {},
   "outputs": [],
   "source": []
  },
  {
   "cell_type": "code",
   "execution_count": null,
   "metadata": {},
   "outputs": [],
   "source": []
  },
  {
   "cell_type": "code",
   "execution_count": null,
   "metadata": {},
   "outputs": [],
   "source": []
  }
 ],
 "metadata": {
  "kernelspec": {
   "display_name": "Python 3",
   "language": "python",
   "name": "python3"
  },
  "language_info": {
   "codemirror_mode": {
    "name": "ipython",
    "version": 3
   },
   "file_extension": ".py",
   "mimetype": "text/x-python",
   "name": "python",
   "nbconvert_exporter": "python",
   "pygments_lexer": "ipython3",
   "version": "3.8.5"
  }
 },
 "nbformat": 4,
 "nbformat_minor": 4
}
