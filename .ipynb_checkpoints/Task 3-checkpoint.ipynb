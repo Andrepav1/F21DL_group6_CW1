{
 "cells": [
  {
   "cell_type": "code",
   "execution_count": 1,
   "metadata": {},
   "outputs": [],
   "source": [
    "import sys\n",
    "assert sys.version_info >= (3, 5)\n",
    "# Python ≥3.5 is required\n",
    "\n",
    "# Scikit-Learn ≥0.20 is required\n",
    "import sklearn\n",
    "assert sklearn.__version__ >= \"0.20\"\n",
    "\n",
    "# Common imports\n",
    "import numpy as np\n",
    "import os\n",
    "import tarfile\n",
    "import urllib\n",
    "import pandas as pd\n",
    "\n",
    "# To plot pretty figures\n",
    "%matplotlib inline\n",
    "import matplotlib as mpl\n",
    "import matplotlib.pyplot as plt\n",
    "\n",
    "# import train_test_split\n",
    "from sklearn.model_selection import train_test_split\n",
    "\n",
    "# naive bayes and metrics import \n",
    "from sklearn.naive_bayes import GaussianNB\n",
    "from sklearn.metrics import accuracy_score\n",
    "from sklearn.metrics import confusion_matrix\n",
    "from sklearn.metrics import classification_report\n"
   ]
  },
  {
   "cell_type": "code",
   "execution_count": 2,
   "metadata": {},
   "outputs": [],
   "source": [
    "DOWNLOAD_ROOT = \"http://www.macs.hw.ac.uk/%7Eek19/data/\"\n",
    "CURRENT_PATH = os.path.join(os.getcwd(), \"datasets\")\n",
    "X_FILE = \"x_train_gr_smpl.csv\"\n",
    "Y_FILE =\"y_train_smpl.csv\"\n",
    "\n",
    "def fetch_data(download_root=DOWNLOAD_ROOT, current_path=CURRENT_PATH):\n",
    "    if os.path.isfile(os.path.join(current_path, X_FILE)) or os.path.isfile(os.path.join(current_path, Y_FILE)):\n",
    "        return\n",
    "    \n",
    "    os.makedirs(current_path, exist_ok=True)\n",
    "    \n",
    "    urllib.request.urlretrieve(download_root + X_FILE, os.path.join(current_path, X_FILE))\n",
    "    urllib.request.urlretrieve(download_root + Y_FILE, os.path.join(current_path, Y_FILE))"
   ]
  },
  {
   "cell_type": "code",
   "execution_count": 3,
   "metadata": {},
   "outputs": [],
   "source": [
    "fetch_data()"
   ]
  },
  {
   "cell_type": "code",
   "execution_count": 4,
   "metadata": {},
   "outputs": [],
   "source": [
    "def load_features_data(current_path=CURRENT_PATH):\n",
    "    return pd.read_csv(os.path.join(current_path, X_FILE))\n",
    "\n",
    "def load_labels_data(current_path=CURRENT_PATH):\n",
    "    return pd.read_csv(os.path.join(current_path, Y_FILE))"
   ]
  },
  {
   "cell_type": "code",
   "execution_count": 5,
   "metadata": {},
   "outputs": [],
   "source": [
    "features = load_features_data()\n",
    "# features.head() # Display the top five rows of the dataframe"
   ]
  },
  {
   "cell_type": "code",
   "execution_count": 6,
   "metadata": {},
   "outputs": [],
   "source": [
    "labels = load_labels_data()\n",
    "# labels.head() # Display the top five rows of the dataframe"
   ]
  },
  {
   "cell_type": "code",
   "execution_count": 7,
   "metadata": {},
   "outputs": [],
   "source": [
    "def display_prediction(expected, predicted):\n",
    "    print(\"=====================================================\")\n",
    "    print(\"Accuracy:\",accuracy_score(expected, predicted))\n",
    "    print(\"=====================================================\")\n",
    "    print(classification_report(expected, predicted))\n",
    "    print(\"=====================================================\")\n",
    "    print(confusion_matrix(expected, predicted))\n",
    "    print(\"=====================================================\")"
   ]
  },
  {
   "cell_type": "code",
   "execution_count": 10,
   "metadata": {},
   "outputs": [],
   "source": [
    "def run_naive_bayes(X,Y):\n",
    "    \n",
    "    # Splitting dataset into training set and test set, 70/30 training/test, seed = 10\n",
    "    X_train, X_test, Y_train, Y_test = train_test_split(X, Y, test_size=0.3,random_state=1)\n",
    "    \n",
    "    # training model using naive bayes\n",
    "    model = GaussianNB()\n",
    "    model.fit(X_train, Y_train)\n",
    "    \n",
    "    # testing the model, getting prediction\n",
    "    prediction = model.predict(X_test)\n",
    "    \n",
    "    display_prediction(Y_test,prediction)"
   ]
  },
  {
   "cell_type": "code",
   "execution_count": 11,
   "metadata": {},
   "outputs": [
    {
     "name": "stdout",
     "output_type": "stream",
     "text": [
      "=====================================================\n",
      "Accuracy: 0.23976608187134502\n",
      "=====================================================\n",
      "              precision    recall  f1-score   support\n",
      "\n",
      "           0       0.14      0.75      0.23        55\n",
      "           1       0.43      0.22      0.29       669\n",
      "           2       0.41      0.19      0.26       669\n",
      "           3       0.43      0.23      0.30       418\n",
      "           4       0.46      0.14      0.21       613\n",
      "           5       0.14      0.24      0.17        59\n",
      "           6       0.09      0.71      0.17       111\n",
      "           7       0.09      0.55      0.16        80\n",
      "           8       0.81      0.26      0.39       150\n",
      "           9       0.27      0.31      0.29        83\n",
      "\n",
      "    accuracy                           0.24      2907\n",
      "   macro avg       0.33      0.36      0.25      2907\n",
      "weighted avg       0.41      0.24      0.26      2907\n",
      "\n",
      "=====================================================\n",
      "[[ 41   1   7   2   1   0   0   3   0   0]\n",
      " [179 150  82  22  35  14  89  89   1   8]\n",
      " [ 30 105 125  57  53  35 119 132   0  13]\n",
      " [ 12  15   6  96  10  12 228  26   3  10]\n",
      " [ 25  59  68  37  83  12 262  57   0  10]\n",
      " [  5   0   1   0   0  14  12  24   1   2]\n",
      " [  0   1   0   0   0   3  79  14   1  13]\n",
      " [  1   1   3   6   0   0  19  44   1   5]\n",
      " [  5  13  10   0   0  10  33  32  39   8]\n",
      " [  0   3   0   1   0   3   4  44   2  26]]\n",
      "=====================================================\n"
     ]
    }
   ],
   "source": [
    "run_naive_bayes(features, labels.values.ravel())"
   ]
  },
  {
   "cell_type": "code",
   "execution_count": null,
   "metadata": {},
   "outputs": [],
   "source": []
  }
 ],
 "metadata": {
  "kernelspec": {
   "display_name": "Python 3",
   "language": "python",
   "name": "python3"
  },
  "language_info": {
   "codemirror_mode": {
    "name": "ipython",
    "version": 3
   },
   "file_extension": ".py",
   "mimetype": "text/x-python",
   "name": "python",
   "nbconvert_exporter": "python",
   "pygments_lexer": "ipython3",
   "version": "3.8.5"
  }
 },
 "nbformat": 4,
 "nbformat_minor": 4
}
