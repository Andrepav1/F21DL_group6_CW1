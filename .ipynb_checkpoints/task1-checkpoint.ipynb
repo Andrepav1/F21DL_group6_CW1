{
 "cells": [
  {
   "cell_type": "code",
   "execution_count": 1,
   "metadata": {
    "executionInfo": {
     "elapsed": 1295,
     "status": "ok",
     "timestamp": 1604683519333,
     "user": {
      "displayName": "Muhammad Omer Khalil",
      "photoUrl": "https://lh3.googleusercontent.com/a-/AOh14GhBP9_9YqH1XxVXKK_-aoVPQjkF_b06vEvZ9FCnRw=s64",
      "userId": "09461543839022200870"
     },
     "user_tz": -300
    },
    "id": "yY1yfQvgMay0"
   },
   "outputs": [],
   "source": [
    "import sys\n",
    "assert sys.version_info >= (3, 5)\n",
    "# Python ≥3.5 is required\n",
    "\n",
    "# Scikit-Learn ≥0.20 is required\n",
    "import sklearn\n",
    "assert sklearn.__version__ >= \"0.20\"\n",
    "from sklearn.utils import shuffle\n",
    "\n",
    "# Common imports\n",
    "import numpy as np\n",
    "import os\n",
    "import tarfile\n",
    "import urllib\n",
    "import pandas as pd\n",
    "from PIL import Image\n",
    "\n",
    "\n",
    "# To plot pretty figures\n",
    "%matplotlib inline\n",
    "import matplotlib as mpl\n",
    "import matplotlib.pyplot as plt"
   ]
  },
  {
   "cell_type": "code",
   "execution_count": 2,
   "metadata": {
    "executionInfo": {
     "elapsed": 4577,
     "status": "ok",
     "timestamp": 1604679918918,
     "user": {
      "displayName": "Muhammad Omer Khalil",
      "photoUrl": "https://lh3.googleusercontent.com/a-/AOh14GhBP9_9YqH1XxVXKK_-aoVPQjkF_b06vEvZ9FCnRw=s64",
      "userId": "09461543839022200870"
     },
     "user_tz": -300
    },
    "id": "MmiEMt5OMXtd"
   },
   "outputs": [],
   "source": [
    "# ==============================================\n",
    "# FILES MANAGEMENT\n",
    "# ==============================================\n",
    "\n",
    "DOWNLOAD_ROOT = \"http://www.macs.hw.ac.uk/%7Eek19/data/\"\n",
    "CURRENT_PATH = os.path.join(os.getcwd(), \"datasets\")\n",
    "X_FILE = \"x_train_gr_smpl.csv\"\n",
    "Y_FILE =\"y_train_smpl.csv\"\n",
    "\n",
    "def fetch_file(file, download_root=DOWNLOAD_ROOT, current_path=CURRENT_PATH):\n",
    "    if os.path.isfile(os.path.join(current_path, file)):\n",
    "        return\n",
    "    \n",
    "    os.makedirs(current_path, exist_ok=True)\n",
    "    urllib.request.urlretrieve(download_root + file, os.path.join(current_path, file))"
   ]
  },
  {
   "cell_type": "code",
   "execution_count": 3,
   "metadata": {},
   "outputs": [],
   "source": [
    "# fetching all files needed in the task\n",
    "fetch_file(X_FILE)\n",
    "fetch_file(Y_FILE)\n",
    "\n",
    "for i in range(10):\n",
    "    fetch_file(\"y_train_smpl_\" + str(i) + \".csv\")"
   ]
  },
  {
   "cell_type": "code",
   "execution_count": 4,
   "metadata": {},
   "outputs": [],
   "source": [
    "# Loading functions \n",
    "def load_features_data(current_path=CURRENT_PATH):\n",
    "    return pd.read_csv(os.path.join(current_path, X_FILE))\n",
    "\n",
    "def load_labels_data(labels_n=None):\n",
    "    if labels_n is None:\n",
    "        return pd.read_csv(os.path.join(CURRENT_PATH, Y_FILE))\n",
    "    else:\n",
    "        return pd.read_csv(os.path.join(CURRENT_PATH, \"y_train_smpl_\" + str(labels_n) + \".csv\"))"
   ]
  },
  {
   "cell_type": "code",
   "execution_count": 9,
   "metadata": {
    "executionInfo": {
     "elapsed": 1159,
     "status": "ok",
     "timestamp": 1604679920865,
     "user": {
      "displayName": "Muhammad Omer Khalil",
      "photoUrl": "https://lh3.googleusercontent.com/a-/AOh14GhBP9_9YqH1XxVXKK_-aoVPQjkF_b06vEvZ9FCnRw=s64",
      "userId": "09461543839022200870"
     },
     "user_tz": -300
    },
    "id": "vo3Nb9QFVxwv",
    "scrolled": true
   },
   "outputs": [],
   "source": [
    "# loading features and labels\n",
    "features = load_features_data()\n",
    "all_labels = load_labels_data()\n",
    "\n",
    "# randomizing the dataset\n",
    "shuffled_x, shuffled_y = shuffle(features, all_labels, random_state=1)"
   ]
  },
  {
   "cell_type": "code",
   "execution_count": 14,
   "metadata": {
    "colab": {
     "base_uri": "https://localhost:8080/",
     "height": 253
    },
    "executionInfo": {
     "elapsed": 1038,
     "status": "ok",
     "timestamp": 1604680089245,
     "user": {
      "displayName": "Muhammad Omer Khalil",
      "photoUrl": "https://lh3.googleusercontent.com/a-/AOh14GhBP9_9YqH1XxVXKK_-aoVPQjkF_b06vEvZ9FCnRw=s64",
      "userId": "09461543839022200870"
     },
     "user_tz": -300
    },
    "id": "eWAwp-LgXGsM",
    "outputId": "ee327fa8-7f1c-4faf-f126-5f672b23255b"
   },
   "outputs": [
    {
     "data": {
      "text/html": [
       "<div>\n",
       "<style scoped>\n",
       "    .dataframe tbody tr th:only-of-type {\n",
       "        vertical-align: middle;\n",
       "    }\n",
       "\n",
       "    .dataframe tbody tr th {\n",
       "        vertical-align: top;\n",
       "    }\n",
       "\n",
       "    .dataframe thead th {\n",
       "        text-align: right;\n",
       "    }\n",
       "</style>\n",
       "<table border=\"1\" class=\"dataframe\">\n",
       "  <thead>\n",
       "    <tr style=\"text-align: right;\">\n",
       "      <th></th>\n",
       "      <th>0</th>\n",
       "      <th>1</th>\n",
       "      <th>2</th>\n",
       "      <th>3</th>\n",
       "      <th>4</th>\n",
       "      <th>5</th>\n",
       "      <th>6</th>\n",
       "      <th>7</th>\n",
       "      <th>8</th>\n",
       "      <th>9</th>\n",
       "      <th>...</th>\n",
       "      <th>2294</th>\n",
       "      <th>2295</th>\n",
       "      <th>2296</th>\n",
       "      <th>2297</th>\n",
       "      <th>2298</th>\n",
       "      <th>2299</th>\n",
       "      <th>2300</th>\n",
       "      <th>2301</th>\n",
       "      <th>2302</th>\n",
       "      <th>2303</th>\n",
       "    </tr>\n",
       "  </thead>\n",
       "  <tbody>\n",
       "    <tr>\n",
       "      <th>574</th>\n",
       "      <td>16.0</td>\n",
       "      <td>16.0</td>\n",
       "      <td>17.0</td>\n",
       "      <td>16.0</td>\n",
       "      <td>16.0</td>\n",
       "      <td>18.0</td>\n",
       "      <td>18.0</td>\n",
       "      <td>19.0</td>\n",
       "      <td>21.0</td>\n",
       "      <td>22.0</td>\n",
       "      <td>...</td>\n",
       "      <td>18.0</td>\n",
       "      <td>18.0</td>\n",
       "      <td>17.0</td>\n",
       "      <td>17.0</td>\n",
       "      <td>17.0</td>\n",
       "      <td>16.0</td>\n",
       "      <td>17.0</td>\n",
       "      <td>18.0</td>\n",
       "      <td>17.0</td>\n",
       "      <td>17.0</td>\n",
       "    </tr>\n",
       "    <tr>\n",
       "      <th>6510</th>\n",
       "      <td>46.0</td>\n",
       "      <td>42.0</td>\n",
       "      <td>34.0</td>\n",
       "      <td>39.0</td>\n",
       "      <td>44.0</td>\n",
       "      <td>51.0</td>\n",
       "      <td>54.0</td>\n",
       "      <td>51.0</td>\n",
       "      <td>50.0</td>\n",
       "      <td>50.0</td>\n",
       "      <td>...</td>\n",
       "      <td>24.0</td>\n",
       "      <td>24.0</td>\n",
       "      <td>24.0</td>\n",
       "      <td>24.0</td>\n",
       "      <td>24.0</td>\n",
       "      <td>25.0</td>\n",
       "      <td>25.0</td>\n",
       "      <td>26.0</td>\n",
       "      <td>27.0</td>\n",
       "      <td>27.0</td>\n",
       "    </tr>\n",
       "    <tr>\n",
       "      <th>7529</th>\n",
       "      <td>44.0</td>\n",
       "      <td>32.0</td>\n",
       "      <td>47.0</td>\n",
       "      <td>75.0</td>\n",
       "      <td>32.0</td>\n",
       "      <td>46.0</td>\n",
       "      <td>25.0</td>\n",
       "      <td>52.0</td>\n",
       "      <td>36.0</td>\n",
       "      <td>69.0</td>\n",
       "      <td>...</td>\n",
       "      <td>16.0</td>\n",
       "      <td>16.0</td>\n",
       "      <td>16.0</td>\n",
       "      <td>19.0</td>\n",
       "      <td>21.0</td>\n",
       "      <td>16.0</td>\n",
       "      <td>17.0</td>\n",
       "      <td>16.0</td>\n",
       "      <td>12.0</td>\n",
       "      <td>13.0</td>\n",
       "    </tr>\n",
       "    <tr>\n",
       "      <th>8087</th>\n",
       "      <td>65.0</td>\n",
       "      <td>87.0</td>\n",
       "      <td>70.0</td>\n",
       "      <td>83.0</td>\n",
       "      <td>90.0</td>\n",
       "      <td>64.0</td>\n",
       "      <td>52.0</td>\n",
       "      <td>55.0</td>\n",
       "      <td>57.0</td>\n",
       "      <td>49.0</td>\n",
       "      <td>...</td>\n",
       "      <td>41.0</td>\n",
       "      <td>39.0</td>\n",
       "      <td>27.0</td>\n",
       "      <td>23.0</td>\n",
       "      <td>22.0</td>\n",
       "      <td>21.0</td>\n",
       "      <td>23.0</td>\n",
       "      <td>24.0</td>\n",
       "      <td>23.0</td>\n",
       "      <td>24.0</td>\n",
       "    </tr>\n",
       "    <tr>\n",
       "      <th>2951</th>\n",
       "      <td>255.0</td>\n",
       "      <td>255.0</td>\n",
       "      <td>254.0</td>\n",
       "      <td>254.0</td>\n",
       "      <td>254.0</td>\n",
       "      <td>254.0</td>\n",
       "      <td>254.0</td>\n",
       "      <td>255.0</td>\n",
       "      <td>255.0</td>\n",
       "      <td>255.0</td>\n",
       "      <td>...</td>\n",
       "      <td>254.0</td>\n",
       "      <td>255.0</td>\n",
       "      <td>252.0</td>\n",
       "      <td>247.0</td>\n",
       "      <td>246.0</td>\n",
       "      <td>249.0</td>\n",
       "      <td>253.0</td>\n",
       "      <td>255.0</td>\n",
       "      <td>255.0</td>\n",
       "      <td>255.0</td>\n",
       "    </tr>\n",
       "  </tbody>\n",
       "</table>\n",
       "<p>5 rows × 2304 columns</p>\n",
       "</div>"
      ],
      "text/plain": [
       "          0      1      2      3      4      5      6      7      8      9  \\\n",
       "574    16.0   16.0   17.0   16.0   16.0   18.0   18.0   19.0   21.0   22.0   \n",
       "6510   46.0   42.0   34.0   39.0   44.0   51.0   54.0   51.0   50.0   50.0   \n",
       "7529   44.0   32.0   47.0   75.0   32.0   46.0   25.0   52.0   36.0   69.0   \n",
       "8087   65.0   87.0   70.0   83.0   90.0   64.0   52.0   55.0   57.0   49.0   \n",
       "2951  255.0  255.0  254.0  254.0  254.0  254.0  254.0  255.0  255.0  255.0   \n",
       "\n",
       "      ...   2294   2295   2296   2297   2298   2299   2300   2301   2302  \\\n",
       "574   ...   18.0   18.0   17.0   17.0   17.0   16.0   17.0   18.0   17.0   \n",
       "6510  ...   24.0   24.0   24.0   24.0   24.0   25.0   25.0   26.0   27.0   \n",
       "7529  ...   16.0   16.0   16.0   19.0   21.0   16.0   17.0   16.0   12.0   \n",
       "8087  ...   41.0   39.0   27.0   23.0   22.0   21.0   23.0   24.0   23.0   \n",
       "2951  ...  254.0  255.0  252.0  247.0  246.0  249.0  253.0  255.0  255.0   \n",
       "\n",
       "       2303  \n",
       "574    17.0  \n",
       "6510   27.0  \n",
       "7529   13.0  \n",
       "8087   24.0  \n",
       "2951  255.0  \n",
       "\n",
       "[5 rows x 2304 columns]"
      ]
     },
     "execution_count": 14,
     "metadata": {},
     "output_type": "execute_result"
    }
   ],
   "source": [
    "shuffled_x.head()"
   ]
  },
  {
   "cell_type": "code",
   "execution_count": 15,
   "metadata": {
    "executionInfo": {
     "elapsed": 24353,
     "status": "ok",
     "timestamp": 1604680135339,
     "user": {
      "displayName": "Muhammad Omer Khalil",
      "photoUrl": "https://lh3.googleusercontent.com/a-/AOh14GhBP9_9YqH1XxVXKK_-aoVPQjkF_b06vEvZ9FCnRw=s64",
      "userId": "09461543839022200870"
     },
     "user_tz": -300
    },
    "id": "8M5NqDm1WBMq"
   },
   "outputs": [],
   "source": [
    "#shuffled_x.to_csv('datasets/shuffled_x_train.csv', index=False)\n",
    "#shuffled_y.to_csv('datasets/shuffled_y_train.csv', index=False)"
   ]
  },
  {
   "cell_type": "code",
   "execution_count": 8,
   "metadata": {},
   "outputs": [
    {
     "data": {
      "text/plain": [
       "<matplotlib.image.AxesImage at 0x24e49b361f0>"
      ]
     },
     "execution_count": 8,
     "metadata": {},
     "output_type": "execute_result"
    },
    {
     "data": {
      "image/png": "[encoded data removed]",
      "text/plain": [
       "<Figure size 432x288 with 1 Axes>"
      ]
     },
     "metadata": {
      "needs_background": "light"
     },
     "output_type": "display_data"
    }
   ],
   "source": [
    "index = np.random.choice(len(shuffled_x))\n",
    "sign_img = shuffled_x.loc[index].to_numpy().reshape(48, 48)\n",
    "plt.imshow(sign_img,cmap=\"gray\")"
   ]
  }
 ],
 "metadata": {
  "colab": {
   "authorship_tag": "ABX9TyMZs6BCFKFyjmENSQeezrob",
   "collapsed_sections": [],
   "mount_file_id": "1IpJHUMlq78nrEh-xKYbG-jYcA6xY9HT0",
   "name": "Question1.ipynb",
   "provenance": []
  },
  "kernelspec": {
   "display_name": "Python 3",
   "language": "python",
   "name": "python3"
  },
  "language_info": {
   "codemirror_mode": {
    "name": "ipython",
    "version": 3
   },
   "file_extension": ".py",
   "mimetype": "text/x-python",
   "name": "python",
   "nbconvert_exporter": "python",
   "pygments_lexer": "ipython3",
   "version": "3.8.5"
  }
 },
 "nbformat": 4,
 "nbformat_minor": 1
}
