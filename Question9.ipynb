{
 "cells": [
  {
   "cell_type": "code",
   "execution_count": 3,
   "metadata": {
    "id": "yY1yfQvgMay0"
   },
   "outputs": [],
   "source": [
    "from time import time\n",
    "import numpy as np\n",
    "import matplotlib.pyplot as plt\n",
    "import pandas as pd\n",
    "import random\n",
    "\n",
    "from sklearn import metrics\n",
    "from sklearn.cluster import KMeans\n",
    "from sklearn.datasets import load_digits\n",
    "from sklearn.decomposition import PCA\n",
    "from sklearn.preprocessing import scale\n",
    "from sklearn.feature_extraction.image import extract_patches_2d"
   ]
  },
  {
   "cell_type": "markdown",
   "metadata": {
    "id": "5L4DZrXc6uuS"
   },
   "source": [
    "## Unsupervised Analysis"
   ]
  },
  {
   "cell_type": "code",
   "execution_count": 12,
   "metadata": {
    "id": "MmiEMt5OMXtd"
   },
   "outputs": [],
   "source": [
    "X_original = pd.read_csv('data/x_train.csv').to_numpy()\n",
    "y_original = pd.read_csv('data/y_train.csv').to_numpy().reshape(-1)"
   ]
  },
  {
   "cell_type": "code",
   "execution_count": 14,
   "metadata": {},
   "outputs": [
    {
     "data": {
      "text/plain": [
       "array([0, 0, 0, ..., 9, 9, 9], dtype=int64)"
      ]
     },
     "execution_count": 14,
     "metadata": {},
     "output_type": "execute_result"
    }
   ],
   "source": [
    "y_original\n"
   ]
  },
  {
   "cell_type": "code",
   "execution_count": 248,
   "metadata": {
    "id": "j1-AeTig6YUW"
   },
   "outputs": [],
   "source": [
    "X = X_original.copy()\n",
    "y = y_original.copy()"
   ]
  },
  {
   "cell_type": "markdown",
   "metadata": {
    "id": "7kDZmWHu69aB"
   },
   "source": [
    "### Selecting only middle 24 * 24 from the image"
   ]
  },
  {
   "cell_type": "code",
   "execution_count": 233,
   "metadata": {
    "id": "rn8_A5kg69aC"
   },
   "outputs": [],
   "source": [
    "# Selecting only the middle 24 x 24 part of the image 12:36\n",
    "X = X.reshape(-1, 48, 48)[:, 12:36, 12:36].reshape(-1, 24 * 24)"
   ]
  },
  {
   "cell_type": "code",
   "execution_count": 224,
   "metadata": {
    "colab": {
     "base_uri": "https://localhost:8080/",
     "height": 282
    },
    "id": "bkYRcaQt7KS9",
    "outputId": "54fa1576-e083-4cbd-aa58-ad259be8d556"
   },
   "outputs": [
    {
     "data": {
      "text/plain": [
       "<matplotlib.image.AxesImage at 0x7f4d1a2e6438>"
      ]
     },
     "execution_count": 224,
     "metadata": {
      "tags": []
     },
     "output_type": "execute_result"
    },
    {
     "data": {
      "image/png": "[encoded data removed]",
      "text/plain": [
       "<Figure size 432x288 with 1 Axes>"
      ]
     },
     "metadata": {
      "needs_background": "light",
      "tags": []
     },
     "output_type": "display_data"
    }
   ],
   "source": [
    "plt.imshow(random.choice(X).reshape(24, 24))"
   ]
  },
  {
   "cell_type": "markdown",
   "metadata": {
    "id": "l8piH8zU6_nC"
   },
   "source": [
    "### Trying out different numbers of clusters"
   ]
  },
  {
   "cell_type": "code",
   "execution_count": 236,
   "metadata": {
    "id": "AAvP6nBj0iAB"
   },
   "outputs": [],
   "source": [
    "data = scale(X)\n",
    "labels = y\n",
    "\n",
    "n_clusters = [5, 10, 15, 20, 30, 40, 50, 75, 100]\n",
    "\n",
    "estimators = []\n",
    "silhouette_scores = []\n",
    "\n",
    "for i in n_clusters:\n",
    "  estimator = KMeans(init='k-means++', n_clusters=n_digits)\n",
    "  estimator.fit(data)\n",
    "  estimators.append(estimator)\n",
    "  silhouette_scores.append(metrics.silhouette_score(data, estimator.labels_,\n",
    "                                        metric='euclidean',\n",
    "                                        sample_size=sample_size))"
   ]
  },
  {
   "cell_type": "code",
   "execution_count": 237,
   "metadata": {
    "colab": {
     "base_uri": "https://localhost:8080/",
     "height": 282
    },
    "id": "0g6Nnvya1kTX",
    "outputId": "d23bc833-988b-4f01-8bfd-f983b80d8986"
   },
   "outputs": [
    {
     "data": {
      "text/plain": [
       "<matplotlib.lines.Line2D at 0x7f4d1a134f28>"
      ]
     },
     "execution_count": 237,
     "metadata": {
      "tags": []
     },
     "output_type": "execute_result"
    },
    {
     "data": {
      "image/png": "[encoded data removed]",
      "text/plain": [
       "<Figure size 432x288 with 1 Axes>"
      ]
     },
     "metadata": {
      "needs_background": "light",
      "tags": []
     },
     "output_type": "display_data"
    }
   ],
   "source": [
    "plt.plot(n_clusters, silhouette_scores)\n",
    "plt.axvline(x=10, color='red')"
   ]
  },
  {
   "cell_type": "code",
   "execution_count": 263,
   "metadata": {
    "id": "n04ydixzGKWr"
   },
   "outputs": [],
   "source": [
    "# Reference: https://scikit-learn.org/stable/auto_examples/cluster/plot_kmeans_digits.html#sphx-glr-auto-examples-cluster-plot-kmeans-digits-py\n",
    "\n",
    "def KMeans_Analysis(X, y):\n",
    "  data = scale(X)\n",
    "\n",
    "  n_samples, n_features = data.shape\n",
    "  n_digits = len(np.unique(y))\n",
    "  labels = y\n",
    "\n",
    "  sample_size = 300\n",
    "  estimators = {}\n",
    "\n",
    "  print(82 * '_')\n",
    "  print('init\\t\\ttime\\thomo\\tcompl\\tv-meas\\tsilhouette')\n",
    "\n",
    "  def bench_k_means(estimator, name, data):\n",
    "      t0 = time()\n",
    "      estimator.fit(data)\n",
    "      print('%-9s\\t%.2fs\\t%.3f\\t%.3f\\t%.3f\\t%.3f'\n",
    "            % (name, (time() - t0), \n",
    "              metrics.homogeneity_score(labels, estimator.labels_),\n",
    "              metrics.completeness_score(labels, estimator.labels_),\n",
    "              metrics.v_measure_score(labels, estimator.labels_),\n",
    "              metrics.silhouette_score(data, estimator.labels_,\n",
    "                                        metric='euclidean',\n",
    "                                        sample_size=sample_size)))\n",
    "      return estimator\n",
    "\n",
    "  estimators['k-means++'] = bench_k_means(KMeans(init='k-means++', n_clusters=n_digits, n_init=10),\n",
    "                name=\"k-means++\", data=data)\n",
    "\n",
    "  estimators['random'] = bench_k_means(KMeans(init='random', n_clusters=n_digits, n_init=10),\n",
    "                name=\"random\", data=data)\n",
    "  print(82 * '_')\n",
    "\n",
    "  return estimators"
   ]
  },
  {
   "cell_type": "markdown",
   "metadata": {
    "id": "4E0tzQj9xKjd"
   },
   "source": [
    "## Selecting Attributes"
   ]
  },
  {
   "cell_type": "markdown",
   "metadata": {
    "id": "8ruTLszdEvQO"
   },
   "source": [
    "### No modification"
   ]
  },
  {
   "cell_type": "code",
   "execution_count": 275,
   "metadata": {
    "id": "13VTLtwlEvQQ"
   },
   "outputs": [],
   "source": [
    "X = X_original.copy()\n",
    "y = y_original.copy()"
   ]
  },
  {
   "cell_type": "code",
   "execution_count": 274,
   "metadata": {
    "colab": {
     "base_uri": "https://localhost:8080/"
    },
    "id": "Arr4rMmXEvQV",
    "outputId": "f59ee471-fc6a-4fcc-f7cd-5423a35685f5"
   },
   "outputs": [
    {
     "name": "stdout",
     "output_type": "stream",
     "text": [
      "__________________________________________________________________________________\n",
      "init\t\ttime\thomo\tcompl\tv-meas\tsilhouette\n",
      "k-means++\t20.14s\t0.122\t0.112\t0.117\t0.141\n",
      "random   \t24.92s\t0.122\t0.112\t0.117\t0.139\n",
      "__________________________________________________________________________________\n"
     ]
    }
   ],
   "source": [
    "estimator_1 = KMeans_Analysis(X, y)"
   ]
  },
  {
   "cell_type": "code",
   "execution_count": 276,
   "metadata": {
    "colab": {
     "base_uri": "https://localhost:8080/",
     "height": 284
    },
    "id": "TD72vxfZI3JW",
    "outputId": "44c7949e-d7f6-49bd-c622-62cd97b77de9"
   },
   "outputs": [
    {
     "data": {
      "text/plain": [
       "<matplotlib.image.AxesImage at 0x7f4d1abb7c18>"
      ]
     },
     "execution_count": 276,
     "metadata": {
      "tags": []
     },
     "output_type": "execute_result"
    },
    {
     "data": {
      "image/png": "[encoded data removed]",
      "text/plain": [
       "<Figure size 432x288 with 1 Axes>"
      ]
     },
     "metadata": {
      "needs_background": "light",
      "tags": []
     },
     "output_type": "display_data"
    }
   ],
   "source": [
    "plt.imshow(random.choice(X).reshape(48, 48))"
   ]
  },
  {
   "cell_type": "markdown",
   "metadata": {
    "id": "EoUQhJnkxMU-"
   },
   "source": [
    "### Selecting only middle 24 * 24 from the image"
   ]
  },
  {
   "cell_type": "code",
   "execution_count": 277,
   "metadata": {
    "id": "7OIXZhroDjL6"
   },
   "outputs": [],
   "source": [
    "X = X_original.copy()\n",
    "y = y_original.copy()"
   ]
  },
  {
   "cell_type": "code",
   "execution_count": 278,
   "metadata": {
    "id": "L--vc0TZOCuQ"
   },
   "outputs": [],
   "source": [
    "# Selecting only the middle 24 x 24 part of the image 12:36\n",
    "X = X.reshape(-1, 48, 48)[:, 12:36, 12:36].reshape(-1, 24 * 24)"
   ]
  },
  {
   "cell_type": "code",
   "execution_count": 266,
   "metadata": {
    "colab": {
     "base_uri": "https://localhost:8080/"
    },
    "id": "29AkXWCUUYqN",
    "outputId": "fdc01e1b-8ac0-4b1f-bf06-063ac50d416b"
   },
   "outputs": [
    {
     "name": "stdout",
     "output_type": "stream",
     "text": [
      "__________________________________________________________________________________\n",
      "init\t\ttime\thomo\tcompl\tv-meas\tsilhouette\n",
      "k-means++\t7.46s\t0.183\t0.164\t0.173\t0.173\n",
      "random   \t7.49s\t0.183\t0.164\t0.173\t0.182\n",
      "__________________________________________________________________________________\n"
     ]
    }
   ],
   "source": [
    "estimator_2 = KMeans_Analysis(X, y)"
   ]
  },
  {
   "cell_type": "code",
   "execution_count": 280,
   "metadata": {
    "colab": {
     "base_uri": "https://localhost:8080/",
     "height": 282
    },
    "id": "_HtMhQ69JGTk",
    "outputId": "12ff218b-11fd-4dc8-de43-f9943a9462e2"
   },
   "outputs": [
    {
     "data": {
      "text/plain": [
       "<matplotlib.image.AxesImage at 0x7f4d19f87588>"
      ]
     },
     "execution_count": 280,
     "metadata": {
      "tags": []
     },
     "output_type": "execute_result"
    },
    {
     "data": {
      "image/png": "[encoded data removed]",
      "text/plain": [
       "<Figure size 432x288 with 1 Axes>"
      ]
     },
     "metadata": {
      "needs_background": "light",
      "tags": []
     },
     "output_type": "display_data"
    }
   ],
   "source": [
    "plt.imshow(random.choice(X).reshape(24, 24))"
   ]
  },
  {
   "cell_type": "markdown",
   "metadata": {
    "id": "x0RPh0d_vQy9"
   },
   "source": [
    "### Now selecting only middle 16 * 16 from the image"
   ]
  },
  {
   "cell_type": "code",
   "execution_count": 283,
   "metadata": {
    "id": "wQXUqVV-EDsl"
   },
   "outputs": [],
   "source": [
    "X = X_original.copy()\n",
    "y = y_original.copy()"
   ]
  },
  {
   "cell_type": "code",
   "execution_count": 284,
   "metadata": {
    "id": "UIZlk-G9vLGJ"
   },
   "outputs": [],
   "source": [
    "# Selecting only the middle 16 x 16 part of the image\n",
    "X = X.reshape(-1, 48, 48)[:, 16:32, 16:32].reshape(-1, 16 * 16)"
   ]
  },
  {
   "cell_type": "code",
   "execution_count": 269,
   "metadata": {
    "colab": {
     "base_uri": "https://localhost:8080/"
    },
    "id": "XS8VJT7MvLGP",
    "outputId": "d9a1043d-95a1-4136-91fa-faf146ec54d6"
   },
   "outputs": [
    {
     "name": "stdout",
     "output_type": "stream",
     "text": [
      "__________________________________________________________________________________\n",
      "init\t\ttime\thomo\tcompl\tv-meas\tsilhouette\n",
      "k-means++\t3.92s\t0.190\t0.168\t0.178\t0.185\n",
      "random   \t4.00s\t0.190\t0.168\t0.178\t0.164\n",
      "__________________________________________________________________________________\n"
     ]
    }
   ],
   "source": [
    "estimator_3 = KMeans_Analysis(X, y)"
   ]
  },
  {
   "cell_type": "code",
   "execution_count": 285,
   "metadata": {
    "colab": {
     "base_uri": "https://localhost:8080/",
     "height": 282
    },
    "id": "T0j7KJG1cCwT",
    "outputId": "cfa2411b-3469-474c-f02e-25ff0bc6591b"
   },
   "outputs": [
    {
     "data": {
      "text/plain": [
       "<matplotlib.image.AxesImage at 0x7f4d19ef4048>"
      ]
     },
     "execution_count": 285,
     "metadata": {
      "tags": []
     },
     "output_type": "execute_result"
    },
    {
     "data": {
      "image/png": "[encoded data removed]",
      "text/plain": [
       "<Figure size 432x288 with 1 Axes>"
      ]
     },
     "metadata": {
      "needs_background": "light",
      "tags": []
     },
     "output_type": "display_data"
    }
   ],
   "source": [
    "plt.imshow(random.choice(X).reshape(16, 16))"
   ]
  },
  {
   "cell_type": "markdown",
   "metadata": {
    "id": "KnEPJneryTL0"
   },
   "source": [
    "### Now selecting only middle 12 * 12 from the image"
   ]
  },
  {
   "cell_type": "code",
   "execution_count": 270,
   "metadata": {
    "id": "NCZ3eoNEEIJH"
   },
   "outputs": [],
   "source": [
    "X = X_original.copy()\n",
    "y = y_original.copy()"
   ]
  },
  {
   "cell_type": "code",
   "execution_count": 271,
   "metadata": {
    "id": "1Pb4fpyVyTL2"
   },
   "outputs": [],
   "source": [
    "# Selecting only the middle 12 x 12 part of the image\n",
    "X = X.reshape(-1, 48, 48)[:, 18:30, 18:30].reshape(-1, 12 * 12)"
   ]
  },
  {
   "cell_type": "code",
   "execution_count": 272,
   "metadata": {
    "colab": {
     "base_uri": "https://localhost:8080/"
    },
    "id": "1AJF_U3_yTL-",
    "outputId": "b762ae35-34a0-451e-c3f5-7d78991ad35c"
   },
   "outputs": [
    {
     "name": "stdout",
     "output_type": "stream",
     "text": [
      "__________________________________________________________________________________\n",
      "init\t\ttime\thomo\tcompl\tv-meas\tsilhouette\n",
      "k-means++\t2.41s\t0.156\t0.140\t0.148\t0.174\n",
      "random   \t3.88s\t0.158\t0.141\t0.149\t0.160\n",
      "__________________________________________________________________________________\n"
     ]
    }
   ],
   "source": [
    "estimator_4 = KMeans_Analysis(X, y)"
   ]
  },
  {
   "cell_type": "code",
   "execution_count": 252,
   "metadata": {
    "colab": {
     "base_uri": "https://localhost:8080/",
     "height": 282
    },
    "id": "BanJMRke_K_Z",
    "outputId": "bdf8a40a-fc25-4563-e3cb-50c57fda3a71"
   },
   "outputs": [
    {
     "data": {
      "text/plain": [
       "<matplotlib.image.AxesImage at 0x7f4d1a68f240>"
      ]
     },
     "execution_count": 252,
     "metadata": {
      "tags": []
     },
     "output_type": "execute_result"
    },
    {
     "data": {
      "image/png": "[encoded data removed]",
      "text/plain": [
       "<Figure size 432x288 with 1 Axes>"
      ]
     },
     "metadata": {
      "needs_background": "light",
      "tags": []
     },
     "output_type": "display_data"
    }
   ],
   "source": [
    "plt.imshow(random.choice(X).reshape(12, 12))"
   ]
  }
 ],
 "metadata": {
  "colab": {
   "collapsed_sections": [],
   "name": "Question9.ipynb",
   "provenance": []
  },
  "kernelspec": {
   "display_name": "Python 3",
   "language": "python",
   "name": "python3"
  },
  "language_info": {
   "codemirror_mode": {
    "name": "ipython",
    "version": 3
   },
   "file_extension": ".py",
   "mimetype": "text/x-python",
   "name": "python",
   "nbconvert_exporter": "python",
   "pygments_lexer": "ipython3",
   "version": "3.8.3"
  }
 },
 "nbformat": 4,
 "nbformat_minor": 1
}
