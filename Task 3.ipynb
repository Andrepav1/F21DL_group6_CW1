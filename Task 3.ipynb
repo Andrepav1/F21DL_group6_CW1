{
 "cells": [
  {
   "cell_type": "code",
   "execution_count": 1,
   "metadata": {},
   "outputs": [],
   "source": [
    "import sys\n",
    "assert sys.version_info >= (3, 5)\n",
    "# Python ≥3.5 is required\n",
    "\n",
    "# Scikit-Learn ≥0.20 is required\n",
    "import sklearn\n",
    "assert sklearn.__version__ >= \"0.20\"\n",
    "\n",
    "# Common imports\n",
    "import numpy as np\n",
    "import os\n",
    "import tarfile\n",
    "import urllib\n",
    "import pandas as pd\n",
    "\n",
    "# To plot pretty figures\n",
    "%matplotlib inline\n",
    "import matplotlib as mpl\n",
    "import matplotlib.pyplot as plt\n",
    "\n",
    "# Task 3 modules\n",
    "from sklearn.naive_bayes import GaussianNB\n",
    "from sklearn.metrics import confusion_matrix\n",
    "from sklearn.metrics import classification_report"
   ]
  },
  {
   "cell_type": "code",
   "execution_count": 2,
   "metadata": {},
   "outputs": [],
   "source": [
    "DOWNLOAD_ROOT = \"http://www.macs.hw.ac.uk/%7Eek19/data/\"\n",
    "CURRENT_PATH = os.path.join(os.getcwd(), \"datasets\")\n",
    "X_FILE = \"x_train_gr_smpl.csv\"\n",
    "Y_FILE =\"y_train_smpl.csv\"\n",
    "\n",
    "def fetch_data(download_root=DOWNLOAD_ROOT, current_path=CURRENT_PATH):\n",
    "    if os.path.isfile(os.path.join(current_path, X_FILE)) or os.path.isfile(os.path.join(current_path, Y_FILE)):\n",
    "        return\n",
    "    \n",
    "    os.makedirs(current_path, exist_ok=True)\n",
    "    \n",
    "    urllib.request.urlretrieve(download_root + X_FILE, os.path.join(current_path, X_FILE))\n",
    "    urllib.request.urlretrieve(download_root + Y_FILE, os.path.join(current_path, Y_FILE))"
   ]
  },
  {
   "cell_type": "code",
   "execution_count": 3,
   "metadata": {},
   "outputs": [],
   "source": [
    "fetch_data()"
   ]
  },
  {
   "cell_type": "code",
   "execution_count": 10,
   "metadata": {},
   "outputs": [],
   "source": [
    "def load_features_data(current_path=CURRENT_PATH):\n",
    "    return pd.read_csv(os.path.join(current_path, X_FILE))\n",
    "\n",
    "def load_labels_data(current_path=CURRENT_PATH):\n",
    "    return pd.read_csv(os.path.join(current_path, Y_FILE))"
   ]
  },
  {
   "cell_type": "code",
   "execution_count": 11,
   "metadata": {},
   "outputs": [],
   "source": [
    "signs = load_features_data()\n",
    "# signs.head() # Display the top five rows of the dataframe"
   ]
  },
  {
   "cell_type": "code",
   "execution_count": 12,
   "metadata": {},
   "outputs": [],
   "source": [
    "signs_y = load_labels_data()\n",
    "# signs_test.head() # Display the top five rows of the dataframe"
   ]
  },
  {
   "cell_type": "code",
   "execution_count": 13,
   "metadata": {},
   "outputs": [
    {
     "data": {
      "text/plain": [
       "GaussianNB()"
      ]
     },
     "execution_count": 13,
     "metadata": {},
     "output_type": "execute_result"
    }
   ],
   "source": [
    "model = GaussianNB()\n",
    "model.fit(signs, signs_y.values.ravel())"
   ]
  },
  {
   "cell_type": "code",
   "execution_count": 14,
   "metadata": {},
   "outputs": [],
   "source": [
    "expected = signs_y\n",
    "predicted = model.predict(signs)"
   ]
  },
  {
   "cell_type": "code",
   "execution_count": 15,
   "metadata": {},
   "outputs": [
    {
     "name": "stdout",
     "output_type": "stream",
     "text": [
      "              precision    recall  f1-score   support\n",
      "\n",
      "           0       0.15      0.73      0.25       210\n",
      "           1       0.41      0.21      0.28      2220\n",
      "           2       0.43      0.17      0.24      2250\n",
      "           3       0.44      0.22      0.29      1410\n",
      "           4       0.39      0.15      0.22      1980\n",
      "           5       0.13      0.21      0.16       210\n",
      "           6       0.08      0.67      0.15       360\n",
      "           7       0.09      0.54      0.15       240\n",
      "           8       0.67      0.25      0.36       540\n",
      "           9       0.25      0.27      0.26       270\n",
      "\n",
      "    accuracy                           0.23      9690\n",
      "   macro avg       0.30      0.34      0.24      9690\n",
      "weighted avg       0.39      0.23      0.25      9690\n",
      "\n",
      "[[154   5  18  12   4   0   0  17   0   0]\n",
      " [560 473 252  78 133  53 342 289  17  23]\n",
      " [138 373 378 178 259  99 378 387   0  60]\n",
      " [ 59  58  16 310  46  44 757  67  26  27]\n",
      " [ 63 205 178 113 293  75 883 151   0  19]\n",
      " [ 10   2   2   0   0  44  60  79  11   2]\n",
      " [  0  10   0   2   0   4 241  51   4  48]\n",
      " [  3   1   5  16   0   0  65 130   2  18]\n",
      " [ 13  31  36   0   0  29 123 148 135  25]\n",
      " [  0   8   0   2   7   3  20 148   8  74]]\n"
     ]
    }
   ],
   "source": [
    "print(classification_report(expected, predicted))\n",
    "print(confusion_matrix(expected, predicted))"
   ]
  },
  {
   "cell_type": "code",
   "execution_count": null,
   "metadata": {},
   "outputs": [],
   "source": []
  }
 ],
 "metadata": {
  "kernelspec": {
   "display_name": "Python 3",
   "language": "python",
   "name": "python3"
  },
  "language_info": {
   "codemirror_mode": {
    "name": "ipython",
    "version": 3
   },
   "file_extension": ".py",
   "mimetype": "text/x-python",
   "name": "python",
   "nbconvert_exporter": "python",
   "pygments_lexer": "ipython3",
   "version": "3.8.3"
  }
 },
 "nbformat": 4,
 "nbformat_minor": 4
}
