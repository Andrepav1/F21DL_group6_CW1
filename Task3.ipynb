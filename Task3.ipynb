{
 "cells": [
  {
   "cell_type": "code",
   "execution_count": 1,
   "metadata": {},
   "outputs": [],
   "source": [
    "import sys\n",
    "assert sys.version_info >= (3, 5)\n",
    "# Python ≥3.5 is required\n",
    "\n",
    "# Scikit-Learn ≥0.20 is required\n",
    "import sklearn\n",
    "assert sklearn.__version__ >= \"0.20\"\n",
    "\n",
    "# Common imports\n",
    "import numpy as np\n",
    "import os\n",
    "import tarfile\n",
    "import urllib\n",
    "import pandas as pd\n",
    "\n",
    "# To plot pretty figures\n",
    "%matplotlib inline\n",
    "import matplotlib as mpl\n",
    "import matplotlib.pyplot as plt\n",
    "\n",
    "# import train_test_split\n",
    "from sklearn.model_selection import train_test_split\n",
    "\n",
    "# naive bayes and metrics import \n",
    "from sklearn.naive_bayes import GaussianNB\n",
    "from sklearn.metrics import accuracy_score\n",
    "from sklearn.metrics import confusion_matrix\n",
    "from sklearn.metrics import classification_report\n"
   ]
  },
  {
   "cell_type": "code",
   "execution_count": 2,
   "metadata": {},
   "outputs": [],
   "source": [
    "# ==============================================\n",
    "# FILES MANAGEMENT\n",
    "# ==============================================\n",
    "\n",
    "DOWNLOAD_ROOT = \"http://www.macs.hw.ac.uk/%7Eek19/data/\"\n",
    "CURRENT_PATH = os.path.join(os.getcwd(), \"datasets\")\n",
    "X_FILE = \"x_train_gr_smpl.csv\"\n",
    "Y_FILE =\"y_train_smpl.csv\"\n",
    "\n",
    "def fetch_file(file, download_root=DOWNLOAD_ROOT, current_path=CURRENT_PATH):\n",
    "    if os.path.isfile(os.path.join(current_path, file)):\n",
    "        return\n",
    "    \n",
    "    os.makedirs(current_path, exist_ok=True)\n",
    "    urllib.request.urlretrieve(download_root + file, os.path.join(current_path, file))"
   ]
  },
  {
   "cell_type": "code",
   "execution_count": 3,
   "metadata": {},
   "outputs": [],
   "source": [
    "# fetching all files needed in the task\n",
    "fetch_file(X_FILE)\n",
    "fetch_file(Y_FILE)\n",
    "\n",
    "for i in range(10):\n",
    "    fetch_file(\"y_train_smpl_\" + str(i) + \".csv\")"
   ]
  },
  {
   "cell_type": "code",
   "execution_count": 28,
   "metadata": {},
   "outputs": [],
   "source": [
    "# Loading functions \n",
    "def load_features_data(current_path=CURRENT_PATH):\n",
    "    return pd.read_csv(os.path.join(current_path, X_FILE))\n",
    "\n",
    "def load_labels_data(labels_n=None):\n",
    "    if labels_n is None:\n",
    "        return pd.read_csv(os.path.join(CURRENT_PATH, Y_FILE))\n",
    "    else:\n",
    "        return pd.read_csv(os.path.join(CURRENT_PATH, \"y_train_smpl_\" + str(labels_n) + \".csv\"))"
   ]
  },
  {
   "cell_type": "code",
   "execution_count": 29,
   "metadata": {},
   "outputs": [],
   "source": [
    "features = load_features_data()\n",
    "labels = load_labels_data()"
   ]
  },
  {
   "cell_type": "code",
   "execution_count": 30,
   "metadata": {},
   "outputs": [],
   "source": [
    "def display_prediction(expected, predicted):\n",
    "    print(\"=====================================================\")\n",
    "    print(\"Accuracy:\", accuracy_score(expected, predicted))\n",
    "    print(\"=====================================================\")\n",
    "    print(classification_report(expected, predicted))\n",
    "    print(\"=====================================================\")\n",
    "    print(confusion_matrix(expected, predicted))\n",
    "    print(\"=====================================================\")"
   ]
  },
  {
   "cell_type": "code",
   "execution_count": 31,
   "metadata": {},
   "outputs": [],
   "source": [
    "# returns expected and predicted result if display if False\n",
    "def run_naive_bayes(X,Y,randomize = True):\n",
    "    \n",
    "    # Splitting dataset into training set and test set, 70/30 training/test, seed = 10 \n",
    "    X_train, X_test, Y_train, Y_test = train_test_split(X, Y, test_size=0.3, random_state=10, shuffle=randomize)\n",
    "    \n",
    "    # training model using naive bayes\n",
    "    model = GaussianNB()\n",
    "    model.fit(X_train, Y_train)\n",
    "    \n",
    "    # testing the model, getting prediction\n",
    "    prediction = model.predict(X_test)\n",
    "    \n",
    "    display_prediction(Y_test,prediction)\n",
    "    return prediction"
   ]
  },
  {
   "cell_type": "code",
   "execution_count": 32,
   "metadata": {},
   "outputs": [
    {
     "name": "stdout",
     "output_type": "stream",
     "text": [
      "=====================================================\n",
      "Accuracy: 0.2370141038871689\n",
      "=====================================================\n",
      "              precision    recall  f1-score   support\n",
      "\n",
      "           0       0.18      0.72      0.28        72\n",
      "           1       0.47      0.22      0.30       682\n",
      "           2       0.43      0.18      0.26       657\n",
      "           3       0.40      0.23      0.30       439\n",
      "           4       0.44      0.14      0.22       575\n",
      "           5       0.11      0.23      0.15        65\n",
      "           6       0.08      0.70      0.14       100\n",
      "           7       0.10      0.49      0.16        79\n",
      "           8       0.64      0.24      0.35       160\n",
      "           9       0.19      0.26      0.22        78\n",
      "\n",
      "    accuracy                           0.24      2907\n",
      "   macro avg       0.30      0.34      0.24      2907\n",
      "weighted avg       0.41      0.24      0.26      2907\n",
      "\n",
      "=====================================================\n",
      "[[ 52   1   3   9   1   0   0   5   0   1]\n",
      " [168 149  89  28  33  19 107  78   6   5]\n",
      " [ 32  99 120  69  65  37  98 118   0  19]\n",
      " [ 16   9   6 103   4  14 246  16  11  14]\n",
      " [ 20  54  48  41  82  33 259  36   0   2]\n",
      " [  3   0   1   0   0  15  17  21   5   3]\n",
      " [  0   0   0   2   0   0  70   8   0  20]\n",
      " [  1   0   3   6   0   0  22  39   0   8]\n",
      " [  4   3   7   0   0  16  38  40  39  13]\n",
      " [  0   1   0   0   2   2  12  41   0  20]]\n",
      "=====================================================\n"
     ]
    }
   ],
   "source": [
    "# Task 3: Deeper analysis of the data: the data is split into 10 classes, \n",
    "#         search for important attributes for each class\n",
    "\n",
    "pred = run_naive_bayes(features, labels.values.ravel())"
   ]
  },
  {
   "cell_type": "code",
   "execution_count": 33,
   "metadata": {},
   "outputs": [
    {
     "name": "stdout",
     "output_type": "stream",
     "text": [
      "Predicted: 9\n"
     ]
    },
    {
     "data": {
      "image/png": "[encoded data removed]",
      "text/plain": [
       "<Figure size 432x288 with 1 Axes>"
      ]
     },
     "metadata": {
      "needs_background": "light"
     },
     "output_type": "display_data"
    }
   ],
   "source": [
    "# Random sign and its prediction value \n",
    "index = np.random.choice(len(pred))\n",
    "sign = features.loc[index].to_numpy().reshape(48, 48)\n",
    "plt.imshow(sign,cmap=\"gray\")\n",
    "print(\"Predicted:\", pred[index])"
   ]
  }
 ],
 "metadata": {
  "kernelspec": {
   "display_name": "Python 3",
   "language": "python",
   "name": "python3"
  },
  "language_info": {
   "codemirror_mode": {
    "name": "ipython",
    "version": 3
   },
   "file_extension": ".py",
   "mimetype": "text/x-python",
   "name": "python",
   "nbconvert_exporter": "python",
   "pygments_lexer": "ipython3",
   "version": "3.8.5"
  }
 },
 "nbformat": 4,
 "nbformat_minor": 4
}
