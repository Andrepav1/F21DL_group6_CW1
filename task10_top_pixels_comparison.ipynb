{
 "cells": [
  {
   "cell_type": "code",
   "execution_count": 29,
   "metadata": {},
   "outputs": [],
   "source": [
    "import sys\n",
    "assert sys.version_info >= (3, 5)\n",
    "# Python ≥3.5 is required\n",
    "\n",
    "# Scikit-Learn ≥0.20 is required\n",
    "import sklearn\n",
    "assert sklearn.__version__ >= \"0.20\"\n",
    "\n",
    "# Common imports\n",
    "import numpy as np\n",
    "import os\n",
    "import tarfile\n",
    "import urllib\n",
    "import pandas as pd\n",
    "import seaborn as sns\n",
    "\n",
    "# KMeans import\n",
    "from sklearn import metrics\n",
    "from sklearn.cluster import KMeans\n",
    "\n",
    "# metrics import \n",
    "from sklearn.metrics import accuracy_score\n",
    "from sklearn.metrics import confusion_matrix\n",
    "from sklearn.metrics import classification_report\n",
    "\n",
    "from scipy.stats import mode\n",
    "\n",
    "# To plot pretty figures\n",
    "%matplotlib inline\n",
    "import matplotlib as mpl\n",
    "import matplotlib.pyplot as plt"
   ]
  },
  {
   "cell_type": "code",
   "execution_count": 2,
   "metadata": {},
   "outputs": [],
   "source": [
    "# ==============================================\n",
    "# FILES MANAGEMENT\n",
    "# ==============================================\n",
    "\n",
    "DOWNLOAD_ROOT = \"http://www.macs.hw.ac.uk/%7Eek19/data/\"\n",
    "CURRENT_PATH = os.path.join(os.getcwd(), \"datasets\")\n",
    "X_FILE = \"x_train_gr_smpl.csv\"\n",
    "Y_FILE =\"y_train_smpl.csv\"\n",
    "\n",
    "def fetch_file(file, download_root=DOWNLOAD_ROOT, current_path=CURRENT_PATH):\n",
    "    if os.path.isfile(os.path.join(current_path, file)):\n",
    "        return\n",
    "    \n",
    "    os.makedirs(current_path, exist_ok=True)\n",
    "    urllib.request.urlretrieve(download_root + file, os.path.join(current_path, file))"
   ]
  },
  {
   "cell_type": "code",
   "execution_count": 3,
   "metadata": {},
   "outputs": [],
   "source": [
    "# fetching all files needed in the task\n",
    "fetch_file(X_FILE)\n",
    "fetch_file(Y_FILE)\n",
    "\n",
    "for i in range(10):\n",
    "    fetch_file(\"y_train_smpl_\" + str(i) + \".csv\")"
   ]
  },
  {
   "cell_type": "code",
   "execution_count": 4,
   "metadata": {},
   "outputs": [],
   "source": [
    "# Loading functions \n",
    "def load_features_data(current_path=CURRENT_PATH):\n",
    "    return pd.read_csv(os.path.join(current_path, X_FILE)).rename(columns=lambda s: \"pixel_\"+s, index=lambda s: \"sign_\"+str(s))\n",
    "\n",
    "def load_labels_data(labels_n=None):\n",
    "    if labels_n is None:\n",
    "        return pd.read_csv(os.path.join(CURRENT_PATH, Y_FILE)).rename(columns=lambda s:\"class\", index=lambda s: \"sign_\"+str(s))\n",
    "    else:\n",
    "        return pd.read_csv(os.path.join(CURRENT_PATH, \"y_train_smpl_\" + str(labels_n) + \".csv\")).rename(columns=lambda s:\"class_\"+str(labels_n), index=lambda s: \"sign_\"+str(s))"
   ]
  },
  {
   "cell_type": "code",
   "execution_count": 5,
   "metadata": {},
   "outputs": [
    {
     "data": {
      "text/html": [
       "<div>\n",
       "<style scoped>\n",
       "    .dataframe tbody tr th:only-of-type {\n",
       "        vertical-align: middle;\n",
       "    }\n",
       "\n",
       "    .dataframe tbody tr th {\n",
       "        vertical-align: top;\n",
       "    }\n",
       "\n",
       "    .dataframe thead th {\n",
       "        text-align: right;\n",
       "    }\n",
       "</style>\n",
       "<table border=\"1\" class=\"dataframe\">\n",
       "  <thead>\n",
       "    <tr style=\"text-align: right;\">\n",
       "      <th></th>\n",
       "      <th>pixel_0</th>\n",
       "      <th>pixel_1</th>\n",
       "      <th>pixel_2</th>\n",
       "      <th>pixel_3</th>\n",
       "      <th>pixel_4</th>\n",
       "      <th>pixel_5</th>\n",
       "      <th>pixel_6</th>\n",
       "      <th>pixel_7</th>\n",
       "      <th>pixel_8</th>\n",
       "      <th>pixel_9</th>\n",
       "      <th>...</th>\n",
       "      <th>pixel_2294</th>\n",
       "      <th>pixel_2295</th>\n",
       "      <th>pixel_2296</th>\n",
       "      <th>pixel_2297</th>\n",
       "      <th>pixel_2298</th>\n",
       "      <th>pixel_2299</th>\n",
       "      <th>pixel_2300</th>\n",
       "      <th>pixel_2301</th>\n",
       "      <th>pixel_2302</th>\n",
       "      <th>pixel_2303</th>\n",
       "    </tr>\n",
       "  </thead>\n",
       "  <tbody>\n",
       "    <tr>\n",
       "      <th>sign_0</th>\n",
       "      <td>78.0</td>\n",
       "      <td>77.0</td>\n",
       "      <td>76.0</td>\n",
       "      <td>82.0</td>\n",
       "      <td>87.0</td>\n",
       "      <td>92.0</td>\n",
       "      <td>104.0</td>\n",
       "      <td>119.0</td>\n",
       "      <td>117.0</td>\n",
       "      <td>120.0</td>\n",
       "      <td>...</td>\n",
       "      <td>87.0</td>\n",
       "      <td>79.0</td>\n",
       "      <td>72.0</td>\n",
       "      <td>76.0</td>\n",
       "      <td>83.0</td>\n",
       "      <td>95.0</td>\n",
       "      <td>99.0</td>\n",
       "      <td>98.0</td>\n",
       "      <td>95.0</td>\n",
       "      <td>94.0</td>\n",
       "    </tr>\n",
       "    <tr>\n",
       "      <th>sign_1</th>\n",
       "      <td>73.0</td>\n",
       "      <td>75.0</td>\n",
       "      <td>79.0</td>\n",
       "      <td>78.0</td>\n",
       "      <td>76.0</td>\n",
       "      <td>75.0</td>\n",
       "      <td>89.0</td>\n",
       "      <td>107.0</td>\n",
       "      <td>133.0</td>\n",
       "      <td>125.0</td>\n",
       "      <td>...</td>\n",
       "      <td>96.0</td>\n",
       "      <td>93.0</td>\n",
       "      <td>85.0</td>\n",
       "      <td>77.0</td>\n",
       "      <td>69.0</td>\n",
       "      <td>73.0</td>\n",
       "      <td>83.0</td>\n",
       "      <td>100.0</td>\n",
       "      <td>101.0</td>\n",
       "      <td>101.0</td>\n",
       "    </tr>\n",
       "    <tr>\n",
       "      <th>sign_2</th>\n",
       "      <td>72.0</td>\n",
       "      <td>75.0</td>\n",
       "      <td>79.0</td>\n",
       "      <td>77.0</td>\n",
       "      <td>81.0</td>\n",
       "      <td>89.0</td>\n",
       "      <td>105.0</td>\n",
       "      <td>109.0</td>\n",
       "      <td>86.0</td>\n",
       "      <td>90.0</td>\n",
       "      <td>...</td>\n",
       "      <td>98.0</td>\n",
       "      <td>95.0</td>\n",
       "      <td>88.0</td>\n",
       "      <td>80.0</td>\n",
       "      <td>73.0</td>\n",
       "      <td>71.0</td>\n",
       "      <td>74.0</td>\n",
       "      <td>80.0</td>\n",
       "      <td>89.0</td>\n",
       "      <td>95.0</td>\n",
       "    </tr>\n",
       "    <tr>\n",
       "      <th>sign_3</th>\n",
       "      <td>67.0</td>\n",
       "      <td>70.0</td>\n",
       "      <td>74.0</td>\n",
       "      <td>80.0</td>\n",
       "      <td>93.0</td>\n",
       "      <td>107.0</td>\n",
       "      <td>110.0</td>\n",
       "      <td>96.0</td>\n",
       "      <td>69.0</td>\n",
       "      <td>100.0</td>\n",
       "      <td>...</td>\n",
       "      <td>112.0</td>\n",
       "      <td>92.0</td>\n",
       "      <td>87.0</td>\n",
       "      <td>82.0</td>\n",
       "      <td>77.0</td>\n",
       "      <td>72.0</td>\n",
       "      <td>70.0</td>\n",
       "      <td>72.0</td>\n",
       "      <td>81.0</td>\n",
       "      <td>88.0</td>\n",
       "    </tr>\n",
       "    <tr>\n",
       "      <th>sign_4</th>\n",
       "      <td>74.0</td>\n",
       "      <td>74.0</td>\n",
       "      <td>73.0</td>\n",
       "      <td>72.0</td>\n",
       "      <td>77.0</td>\n",
       "      <td>87.0</td>\n",
       "      <td>104.0</td>\n",
       "      <td>109.0</td>\n",
       "      <td>84.0</td>\n",
       "      <td>83.0</td>\n",
       "      <td>...</td>\n",
       "      <td>100.0</td>\n",
       "      <td>98.0</td>\n",
       "      <td>99.0</td>\n",
       "      <td>100.0</td>\n",
       "      <td>99.0</td>\n",
       "      <td>89.0</td>\n",
       "      <td>78.0</td>\n",
       "      <td>66.0</td>\n",
       "      <td>68.0</td>\n",
       "      <td>72.0</td>\n",
       "    </tr>\n",
       "  </tbody>\n",
       "</table>\n",
       "<p>5 rows × 2304 columns</p>\n",
       "</div>"
      ],
      "text/plain": [
       "        pixel_0  pixel_1  pixel_2  pixel_3  pixel_4  pixel_5  pixel_6  \\\n",
       "sign_0     78.0     77.0     76.0     82.0     87.0     92.0    104.0   \n",
       "sign_1     73.0     75.0     79.0     78.0     76.0     75.0     89.0   \n",
       "sign_2     72.0     75.0     79.0     77.0     81.0     89.0    105.0   \n",
       "sign_3     67.0     70.0     74.0     80.0     93.0    107.0    110.0   \n",
       "sign_4     74.0     74.0     73.0     72.0     77.0     87.0    104.0   \n",
       "\n",
       "        pixel_7  pixel_8  pixel_9  ...  pixel_2294  pixel_2295  pixel_2296  \\\n",
       "sign_0    119.0    117.0    120.0  ...        87.0        79.0        72.0   \n",
       "sign_1    107.0    133.0    125.0  ...        96.0        93.0        85.0   \n",
       "sign_2    109.0     86.0     90.0  ...        98.0        95.0        88.0   \n",
       "sign_3     96.0     69.0    100.0  ...       112.0        92.0        87.0   \n",
       "sign_4    109.0     84.0     83.0  ...       100.0        98.0        99.0   \n",
       "\n",
       "        pixel_2297  pixel_2298  pixel_2299  pixel_2300  pixel_2301  \\\n",
       "sign_0        76.0        83.0        95.0        99.0        98.0   \n",
       "sign_1        77.0        69.0        73.0        83.0       100.0   \n",
       "sign_2        80.0        73.0        71.0        74.0        80.0   \n",
       "sign_3        82.0        77.0        72.0        70.0        72.0   \n",
       "sign_4       100.0        99.0        89.0        78.0        66.0   \n",
       "\n",
       "        pixel_2302  pixel_2303  \n",
       "sign_0        95.0        94.0  \n",
       "sign_1       101.0       101.0  \n",
       "sign_2        89.0        95.0  \n",
       "sign_3        81.0        88.0  \n",
       "sign_4        68.0        72.0  \n",
       "\n",
       "[5 rows x 2304 columns]"
      ]
     },
     "execution_count": 5,
     "metadata": {},
     "output_type": "execute_result"
    }
   ],
   "source": [
    "# retrieve all files and put them into the labels array\n",
    "labels = []\n",
    "for i in range(10):\n",
    "    labels.append(load_labels_data(i))\n",
    "\n",
    "# getting file with all labels\n",
    "all_labels = load_labels_data()\n",
    "\n",
    "# getting file with all features\n",
    "features = load_features_data()\n",
    "features.head() # Display the top five rows of the dataframe"
   ]
  },
  {
   "cell_type": "code",
   "execution_count": 6,
   "metadata": {},
   "outputs": [],
   "source": [
    "# Task 5: Deeper analysis of the data: the data is split into 10 classes, \n",
    "#         search for important attributes for each class"
   ]
  },
  {
   "cell_type": "code",
   "execution_count": 7,
   "metadata": {},
   "outputs": [],
   "source": [
    "all_labels_corr = []\n",
    "for i in range(48*48):\n",
    "    curr_label_corr = []\n",
    "    for j in range(10):\n",
    "        cor = np.corrcoef(labels[j].values.ravel(), features['pixel_'+str(i)].values)\n",
    "        curr_label_corr.append(abs(cor[0][1]))\n",
    "    all_labels_corr.append(curr_label_corr)\n",
    "\n",
    "labels_feature_selection = pd.DataFrame(all_labels_corr).rename(index=lambda s: \"pixel_\"+str(s))"
   ]
  },
  {
   "cell_type": "code",
   "execution_count": 8,
   "metadata": {},
   "outputs": [
    {
     "data": {
      "text/html": [
       "<div>\n",
       "<style scoped>\n",
       "    .dataframe tbody tr th:only-of-type {\n",
       "        vertical-align: middle;\n",
       "    }\n",
       "\n",
       "    .dataframe tbody tr th {\n",
       "        vertical-align: top;\n",
       "    }\n",
       "\n",
       "    .dataframe thead th {\n",
       "        text-align: right;\n",
       "    }\n",
       "</style>\n",
       "<table border=\"1\" class=\"dataframe\">\n",
       "  <thead>\n",
       "    <tr style=\"text-align: right;\">\n",
       "      <th></th>\n",
       "      <th>0</th>\n",
       "      <th>1</th>\n",
       "      <th>2</th>\n",
       "      <th>3</th>\n",
       "      <th>4</th>\n",
       "      <th>5</th>\n",
       "      <th>6</th>\n",
       "      <th>7</th>\n",
       "      <th>8</th>\n",
       "      <th>9</th>\n",
       "    </tr>\n",
       "  </thead>\n",
       "  <tbody>\n",
       "    <tr>\n",
       "      <th>pixel_0</th>\n",
       "      <td>0.058439</td>\n",
       "      <td>0.118066</td>\n",
       "      <td>0.046515</td>\n",
       "      <td>0.053282</td>\n",
       "      <td>0.147181</td>\n",
       "      <td>0.048204</td>\n",
       "      <td>0.043987</td>\n",
       "      <td>0.015625</td>\n",
       "      <td>0.056036</td>\n",
       "      <td>0.042428</td>\n",
       "    </tr>\n",
       "    <tr>\n",
       "      <th>pixel_1</th>\n",
       "      <td>0.057728</td>\n",
       "      <td>0.122209</td>\n",
       "      <td>0.049676</td>\n",
       "      <td>0.053449</td>\n",
       "      <td>0.149236</td>\n",
       "      <td>0.046551</td>\n",
       "      <td>0.042673</td>\n",
       "      <td>0.015238</td>\n",
       "      <td>0.054563</td>\n",
       "      <td>0.043981</td>\n",
       "    </tr>\n",
       "    <tr>\n",
       "      <th>pixel_2</th>\n",
       "      <td>0.054702</td>\n",
       "      <td>0.122218</td>\n",
       "      <td>0.048561</td>\n",
       "      <td>0.054171</td>\n",
       "      <td>0.151761</td>\n",
       "      <td>0.043875</td>\n",
       "      <td>0.043101</td>\n",
       "      <td>0.014934</td>\n",
       "      <td>0.050389</td>\n",
       "      <td>0.052064</td>\n",
       "    </tr>\n",
       "    <tr>\n",
       "      <th>pixel_3</th>\n",
       "      <td>0.051526</td>\n",
       "      <td>0.122916</td>\n",
       "      <td>0.046609</td>\n",
       "      <td>0.052502</td>\n",
       "      <td>0.152882</td>\n",
       "      <td>0.037634</td>\n",
       "      <td>0.044654</td>\n",
       "      <td>0.013504</td>\n",
       "      <td>0.044828</td>\n",
       "      <td>0.057076</td>\n",
       "    </tr>\n",
       "    <tr>\n",
       "      <th>pixel_4</th>\n",
       "      <td>0.055726</td>\n",
       "      <td>0.123027</td>\n",
       "      <td>0.043320</td>\n",
       "      <td>0.050334</td>\n",
       "      <td>0.156037</td>\n",
       "      <td>0.028169</td>\n",
       "      <td>0.046455</td>\n",
       "      <td>0.014698</td>\n",
       "      <td>0.039595</td>\n",
       "      <td>0.059127</td>\n",
       "    </tr>\n",
       "  </tbody>\n",
       "</table>\n",
       "</div>"
      ],
      "text/plain": [
       "                0         1         2         3         4         5         6  \\\n",
       "pixel_0  0.058439  0.118066  0.046515  0.053282  0.147181  0.048204  0.043987   \n",
       "pixel_1  0.057728  0.122209  0.049676  0.053449  0.149236  0.046551  0.042673   \n",
       "pixel_2  0.054702  0.122218  0.048561  0.054171  0.151761  0.043875  0.043101   \n",
       "pixel_3  0.051526  0.122916  0.046609  0.052502  0.152882  0.037634  0.044654   \n",
       "pixel_4  0.055726  0.123027  0.043320  0.050334  0.156037  0.028169  0.046455   \n",
       "\n",
       "                7         8         9  \n",
       "pixel_0  0.015625  0.056036  0.042428  \n",
       "pixel_1  0.015238  0.054563  0.043981  \n",
       "pixel_2  0.014934  0.050389  0.052064  \n",
       "pixel_3  0.013504  0.044828  0.057076  \n",
       "pixel_4  0.014698  0.039595  0.059127  "
      ]
     },
     "execution_count": 8,
     "metadata": {},
     "output_type": "execute_result"
    }
   ],
   "source": [
    "labels_feature_selection.head()"
   ]
  },
  {
   "cell_type": "code",
   "execution_count": 9,
   "metadata": {},
   "outputs": [],
   "source": [
    "# Task 4: Improvement in classification, based on feature selection\n",
    "\n",
    "# function to get the top n pixel for each class label  \n",
    "def get_top_pixels(nlargest):\n",
    "    top_pixels = set()\n",
    "    for i in range(10):\n",
    "        curr_classs_top_pixels = labels_feature_selection[i].nlargest(nlargest).index.values\n",
    "        top_pixels.update(curr_classs_top_pixels)\n",
    "    return list(top_pixels)"
   ]
  },
  {
   "cell_type": "code",
   "execution_count": 10,
   "metadata": {},
   "outputs": [],
   "source": [
    "def display_prediction(expected, predicted):\n",
    "    print(\"=====================================================\")\n",
    "    print(\"Accuracy:\", accuracy_score(expected, predicted))\n",
    "    print(\"=====================================================\")\n",
    "    print(classification_report(expected, predicted))\n",
    "    print(\"=====================================================\")\n",
    "    print(confusion_matrix(expected, predicted))\n",
    "    print(\"=====================================================\")"
   ]
  },
  {
   "cell_type": "code",
   "execution_count": 62,
   "metadata": {},
   "outputs": [],
   "source": [
    "def display_confusion_matrix(matrix):\n",
    "    sns.heatmap(matrix.T, square=True, annot=True, fmt='d')\n",
    "    plt.xlabel('actual')\n",
    "    plt.ylabel('prediction');"
   ]
  },
  {
   "cell_type": "code",
   "execution_count": 45,
   "metadata": {},
   "outputs": [],
   "source": [
    "def run_kmeans_clustering(X,Y):\n",
    "\n",
    "    kmeans = KMeans(n_clusters=10, random_state=1)\n",
    "    prediction = kmeans.fit_predict(X)\n",
    "\n",
    "    predicted_labels = np.zeros_like(prediction)\n",
    "    for i in range(10):\n",
    "        mask = (prediction == i)\n",
    "        predicted_labels[mask] = mode(Y[mask])[0]\n",
    "\n",
    "    return predicted_labels"
   ]
  },
  {
   "cell_type": "code",
   "execution_count": 52,
   "metadata": {},
   "outputs": [],
   "source": [
    "def run_kmeans_clustering_for_top_pixels(n_pixels):\n",
    "    # Prediction\n",
    "    curr_features = features[get_top_pixels(n_pixels)].copy()\n",
    "    prediction = run_kmeans_clustering(curr_features, all_labels.values.ravel())\n",
    "    \n",
    "    # Output\n",
    "    print(\"Accuracy:\", accuracy_score(all_labels.values.ravel(), prediction))\n",
    "    conf_matrix = confusion_matrix(all_labels.values.ravel(), prediction)\n",
    "    display_confusion_matrix(conf_matrix)"
   ]
  },
  {
   "cell_type": "code",
   "execution_count": 71,
   "metadata": {},
   "outputs": [
    {
     "name": "stdout",
     "output_type": "stream",
     "text": [
      "Accuracy: 0.37915376676986584\n"
     ]
    },
    {
     "data": {
      "image/png": "[encoded data removed]",
      "text/plain": [
       "<Figure size 432x288 with 2 Axes>"
      ]
     },
     "metadata": {
      "needs_background": "light"
     },
     "output_type": "display_data"
    }
   ],
   "source": [
    "# top 5 pixel per class (around 100 pixels)\n",
    "run_kmeans_clustering_for_top_pixels(5)"
   ]
  },
  {
   "cell_type": "code",
   "execution_count": 64,
   "metadata": {},
   "outputs": [
    {
     "name": "stdout",
     "output_type": "stream",
     "text": [
      "Accuracy: 0.3630546955624355\n"
     ]
    },
    {
     "data": {
      "image/png": "[encoded data removed]",
      "text/plain": [
       "<Figure size 432x288 with 2 Axes>"
      ]
     },
     "metadata": {
      "needs_background": "light"
     },
     "output_type": "display_data"
    }
   ],
   "source": [
    "# top 10 pixel per class (around 100 pixels)\n",
    "run_kmeans_clustering_for_top_pixels(10)"
   ]
  },
  {
   "cell_type": "code",
   "execution_count": 65,
   "metadata": {},
   "outputs": [
    {
     "name": "stdout",
     "output_type": "stream",
     "text": [
      "Accuracy: 0.3627450980392157\n"
     ]
    },
    {
     "data": {
      "image/png": "[encoded data removed]",
      "text/plain": [
       "<Figure size 432x288 with 2 Axes>"
      ]
     },
     "metadata": {
      "needs_background": "light"
     },
     "output_type": "display_data"
    }
   ],
   "source": [
    "# top 20 pixel per class (around 100 pixels)\n",
    "run_kmeans_clustering_for_top_pixels(20)"
   ]
  },
  {
   "cell_type": "code",
   "execution_count": 28,
   "metadata": {},
   "outputs": [],
   "source": [
    "accuracies = []\n",
    "for i in range(100):\n",
    "    top_features = []\n",
    "    top_features = features[get_top_pixels(i+1)].copy()\n",
    "    pred = run_kmeans_clustering(top_features, all_labels.values.ravel(), True, False)\n",
    "    accuracies.append(accuracy_score(all_labels.values.ravel(), pred))\n"
   ]
  },
  {
   "cell_type": "code",
   "execution_count": 34,
   "metadata": {},
   "outputs": [
    {
     "data": {
      "text/plain": [
       "<matplotlib.lines.Line2D at 0x2ab1b6ab760>"
      ]
     },
     "execution_count": 34,
     "metadata": {},
     "output_type": "execute_result"
    },
    {
     "data": {
      "image/png": "[encoded data removed]",
      "text/plain": [
       "<Figure size 432x288 with 1 Axes>"
      ]
     },
     "metadata": {
      "needs_background": "light"
     },
     "output_type": "display_data"
    }
   ],
   "source": [
    "plt.plot(range(1,101), accuracies, label = \"accuracies\") \n",
    "plt.axvline(x=6, color='red')"
   ]
  }
 ],
 "metadata": {
  "kernelspec": {
   "display_name": "Python 3",
   "language": "python",
   "name": "python3"
  },
  "language_info": {
   "codemirror_mode": {
    "name": "ipython",
    "version": 3
   },
   "file_extension": ".py",
   "mimetype": "text/x-python",
   "name": "python",
   "nbconvert_exporter": "python",
   "pygments_lexer": "ipython3",
   "version": "3.8.5"
  }
 },
 "nbformat": 4,
 "nbformat_minor": 4
}
